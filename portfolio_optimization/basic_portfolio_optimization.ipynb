{
 "cells": [
  {
   "cell_type": "markdown",
   "metadata": {},
   "source": [
    "# Lib imports"
   ]
  },
  {
   "cell_type": "code",
   "execution_count": 1,
   "metadata": {},
   "outputs": [],
   "source": [
    "import yfinance as yf\n",
    "import cvxpy as cp\n",
    "import pypfopt as pypf\n",
    "import matplotlib.pyplot as plt\n",
    "from pypfopt import plotting"
   ]
  },
  {
   "cell_type": "markdown",
   "metadata": {},
   "source": [
    "# Intro\n",
    "\n",
    "Portfolio optimization is a critical tool for modern investors willing to maximize their capital utilization in the market and expected returns. \n",
    "\n",
    "Many portfolio optimization techniques are based on different variants of constrained quadratic programming formalizations, taking as inputs expected asset returns, forms of risk metrics (like covariance matrices), and transaction costs. Next, the goal is selected (typically a maximization of return while keeping the risk level constant or minimizing the risk with varying returns ). The problem is solved either via a closed-form equation or a gradient-minimizing approach. Additional elements or steps can be included, like periodical rebalancing, the inclusion of transaction costs, or different cost functions (Sharpe ratio or similar). \n",
    "\n",
    "This blog post will show you how to prepare and perform a simple portfolio optimization process on selected stocks. Two approaches will be utilized - purely mathematical formulation of the optimization problem and PyPorfolioOpt library that automates most of the process. \n",
    "\n",
    "After reading this article, you will know the following:\n",
    "1. Key terms like portfolio, portfolio weights, and Markovitz model.\n",
    "1. How to prepare stock price data for portfolio optimization task using **yfinance** library.\n",
    "2. How to formulate the problem in terms of the optimization task.\n",
    "3. How to solve the optimization problem using the  library **cvxpy** and dedicated **PyPortfolioOpt**."
   ]
  },
  {
   "cell_type": "markdown",
   "metadata": {},
   "source": [
    "# Portfolio\n",
    "The first important thing is to define what a portfolio is. In layperson's terms, the portfolio is a set of different assets (stocks, bonds, etc. - in general: different financial instruments) (Luenberger, 1997). Typically investors seek diversification of capital, so they want to have various types of assets.\n",
    "\n",
    "Portfolio optimization is finding optimal asset weights so that the portfolio return (final return after some investment period) is maximized in terms of the selected function."
   ]
  },
  {
   "cell_type": "markdown",
   "metadata": {},
   "source": [
    "# Financial time series"
   ]
  },
  {
   "cell_type": "markdown",
   "metadata": {},
   "source": [
    "## Data prep\n",
    "\n",
    "The portfolio optimization process starts with stock prices. You need to download historical prices for a specific period and instruments you are interested in. \n",
    "For this purpose, we will utilize a yahoo finance (yf) library, an unofficial tool for downloading prices from Yahoo! Finance \n",
    "\n",
    "[Library link](https://github.com/ranaroussi/yfinance)"
   ]
  },
  {
   "cell_type": "code",
   "execution_count": 2,
   "metadata": {},
   "outputs": [
    {
     "name": "stdout",
     "output_type": "stream",
     "text": [
      "[*********************100%***********************]  3 of 3 completed\n"
     ]
    },
    {
     "data": {
      "text/html": [
       "<div>\n",
       "<style scoped>\n",
       "    .dataframe tbody tr th:only-of-type {\n",
       "        vertical-align: middle;\n",
       "    }\n",
       "\n",
       "    .dataframe tbody tr th {\n",
       "        vertical-align: top;\n",
       "    }\n",
       "\n",
       "    .dataframe thead tr th {\n",
       "        text-align: left;\n",
       "    }\n",
       "\n",
       "    .dataframe thead tr:last-of-type th {\n",
       "        text-align: right;\n",
       "    }\n",
       "</style>\n",
       "<table border=\"1\" class=\"dataframe\">\n",
       "  <thead>\n",
       "    <tr>\n",
       "      <th></th>\n",
       "      <th colspan=\"3\" halign=\"left\">Adj Close</th>\n",
       "      <th colspan=\"3\" halign=\"left\">Close</th>\n",
       "      <th colspan=\"3\" halign=\"left\">High</th>\n",
       "      <th colspan=\"3\" halign=\"left\">Low</th>\n",
       "      <th colspan=\"3\" halign=\"left\">Open</th>\n",
       "      <th colspan=\"3\" halign=\"left\">Volume</th>\n",
       "    </tr>\n",
       "    <tr>\n",
       "      <th></th>\n",
       "      <th>AAPL</th>\n",
       "      <th>GOOG</th>\n",
       "      <th>MSFT</th>\n",
       "      <th>AAPL</th>\n",
       "      <th>GOOG</th>\n",
       "      <th>MSFT</th>\n",
       "      <th>AAPL</th>\n",
       "      <th>GOOG</th>\n",
       "      <th>MSFT</th>\n",
       "      <th>AAPL</th>\n",
       "      <th>GOOG</th>\n",
       "      <th>MSFT</th>\n",
       "      <th>AAPL</th>\n",
       "      <th>GOOG</th>\n",
       "      <th>MSFT</th>\n",
       "      <th>AAPL</th>\n",
       "      <th>GOOG</th>\n",
       "      <th>MSFT</th>\n",
       "    </tr>\n",
       "    <tr>\n",
       "      <th>Date</th>\n",
       "      <th></th>\n",
       "      <th></th>\n",
       "      <th></th>\n",
       "      <th></th>\n",
       "      <th></th>\n",
       "      <th></th>\n",
       "      <th></th>\n",
       "      <th></th>\n",
       "      <th></th>\n",
       "      <th></th>\n",
       "      <th></th>\n",
       "      <th></th>\n",
       "      <th></th>\n",
       "      <th></th>\n",
       "      <th></th>\n",
       "      <th></th>\n",
       "      <th></th>\n",
       "      <th></th>\n",
       "    </tr>\n",
       "  </thead>\n",
       "  <tbody>\n",
       "    <tr>\n",
       "      <th>2020-01-02</th>\n",
       "      <td>73.561539</td>\n",
       "      <td>68.368500</td>\n",
       "      <td>156.591980</td>\n",
       "      <td>75.087502</td>\n",
       "      <td>68.368500</td>\n",
       "      <td>160.619995</td>\n",
       "      <td>75.150002</td>\n",
       "      <td>68.406998</td>\n",
       "      <td>160.729996</td>\n",
       "      <td>73.797501</td>\n",
       "      <td>67.077499</td>\n",
       "      <td>158.330002</td>\n",
       "      <td>74.059998</td>\n",
       "      <td>67.077499</td>\n",
       "      <td>158.779999</td>\n",
       "      <td>135480400</td>\n",
       "      <td>28132000</td>\n",
       "      <td>22622100</td>\n",
       "    </tr>\n",
       "    <tr>\n",
       "      <th>2020-01-03</th>\n",
       "      <td>72.846382</td>\n",
       "      <td>68.032997</td>\n",
       "      <td>154.642151</td>\n",
       "      <td>74.357498</td>\n",
       "      <td>68.032997</td>\n",
       "      <td>158.619995</td>\n",
       "      <td>75.144997</td>\n",
       "      <td>68.625000</td>\n",
       "      <td>159.949997</td>\n",
       "      <td>74.125000</td>\n",
       "      <td>67.277199</td>\n",
       "      <td>158.059998</td>\n",
       "      <td>74.287498</td>\n",
       "      <td>67.392998</td>\n",
       "      <td>158.320007</td>\n",
       "      <td>146322800</td>\n",
       "      <td>23728000</td>\n",
       "      <td>21116200</td>\n",
       "    </tr>\n",
       "    <tr>\n",
       "      <th>2020-01-06</th>\n",
       "      <td>73.426834</td>\n",
       "      <td>69.710503</td>\n",
       "      <td>155.041855</td>\n",
       "      <td>74.949997</td>\n",
       "      <td>69.710503</td>\n",
       "      <td>159.029999</td>\n",
       "      <td>74.989998</td>\n",
       "      <td>69.824997</td>\n",
       "      <td>159.100006</td>\n",
       "      <td>73.187500</td>\n",
       "      <td>67.500000</td>\n",
       "      <td>156.509995</td>\n",
       "      <td>73.447502</td>\n",
       "      <td>67.500000</td>\n",
       "      <td>157.080002</td>\n",
       "      <td>118387200</td>\n",
       "      <td>34646000</td>\n",
       "      <td>20813700</td>\n",
       "    </tr>\n",
       "  </tbody>\n",
       "</table>\n",
       "</div>"
      ],
      "text/plain": [
       "            Adj Close                             Close             \\\n",
       "                 AAPL       GOOG        MSFT       AAPL       GOOG   \n",
       "Date                                                                 \n",
       "2020-01-02  73.561539  68.368500  156.591980  75.087502  68.368500   \n",
       "2020-01-03  72.846382  68.032997  154.642151  74.357498  68.032997   \n",
       "2020-01-06  73.426834  69.710503  155.041855  74.949997  69.710503   \n",
       "\n",
       "                             High                               Low  \\\n",
       "                  MSFT       AAPL       GOOG        MSFT       AAPL   \n",
       "Date                                                                  \n",
       "2020-01-02  160.619995  75.150002  68.406998  160.729996  73.797501   \n",
       "2020-01-03  158.619995  75.144997  68.625000  159.949997  74.125000   \n",
       "2020-01-06  159.029999  74.989998  69.824997  159.100006  73.187500   \n",
       "\n",
       "                                        Open                         \\\n",
       "                 GOOG        MSFT       AAPL       GOOG        MSFT   \n",
       "Date                                                                  \n",
       "2020-01-02  67.077499  158.330002  74.059998  67.077499  158.779999   \n",
       "2020-01-03  67.277199  158.059998  74.287498  67.392998  158.320007   \n",
       "2020-01-06  67.500000  156.509995  73.447502  67.500000  157.080002   \n",
       "\n",
       "               Volume                      \n",
       "                 AAPL      GOOG      MSFT  \n",
       "Date                                       \n",
       "2020-01-02  135480400  28132000  22622100  \n",
       "2020-01-03  146322800  23728000  21116200  \n",
       "2020-01-06  118387200  34646000  20813700  "
      ]
     },
     "execution_count": 2,
     "metadata": {},
     "output_type": "execute_result"
    }
   ],
   "source": [
    "# Step 1: let's pick some well-known stocks\n",
    "stocks = ['AAPL', 'GOOG', 'MSFT']\n",
    "start_date = '2020-01-01'\n",
    "\n",
    "# Step 2: download prices from Yahoo!\n",
    "all_prices = yf.download(stocks, start=start_date)\n",
    "\n",
    "all_prices.head(3)"
   ]
  },
  {
   "cell_type": "markdown",
   "metadata": {},
   "source": [
    "For the sake of this exercise, we will utilize only \"Close\" prices for each asset."
   ]
  },
  {
   "cell_type": "code",
   "execution_count": 3,
   "metadata": {},
   "outputs": [
    {
     "data": {
      "text/html": [
       "<div>\n",
       "<style scoped>\n",
       "    .dataframe tbody tr th:only-of-type {\n",
       "        vertical-align: middle;\n",
       "    }\n",
       "\n",
       "    .dataframe tbody tr th {\n",
       "        vertical-align: top;\n",
       "    }\n",
       "\n",
       "    .dataframe thead th {\n",
       "        text-align: right;\n",
       "    }\n",
       "</style>\n",
       "<table border=\"1\" class=\"dataframe\">\n",
       "  <thead>\n",
       "    <tr style=\"text-align: right;\">\n",
       "      <th></th>\n",
       "      <th>AAPL</th>\n",
       "      <th>GOOG</th>\n",
       "      <th>MSFT</th>\n",
       "    </tr>\n",
       "    <tr>\n",
       "      <th>Date</th>\n",
       "      <th></th>\n",
       "      <th></th>\n",
       "      <th></th>\n",
       "    </tr>\n",
       "  </thead>\n",
       "  <tbody>\n",
       "    <tr>\n",
       "      <th>2020-01-02</th>\n",
       "      <td>75.087502</td>\n",
       "      <td>68.368500</td>\n",
       "      <td>160.619995</td>\n",
       "    </tr>\n",
       "    <tr>\n",
       "      <th>2020-01-03</th>\n",
       "      <td>74.357498</td>\n",
       "      <td>68.032997</td>\n",
       "      <td>158.619995</td>\n",
       "    </tr>\n",
       "    <tr>\n",
       "      <th>2020-01-06</th>\n",
       "      <td>74.949997</td>\n",
       "      <td>69.710503</td>\n",
       "      <td>159.029999</td>\n",
       "    </tr>\n",
       "  </tbody>\n",
       "</table>\n",
       "</div>"
      ],
      "text/plain": [
       "                 AAPL       GOOG        MSFT\n",
       "Date                                        \n",
       "2020-01-02  75.087502  68.368500  160.619995\n",
       "2020-01-03  74.357498  68.032997  158.619995\n",
       "2020-01-06  74.949997  69.710503  159.029999"
      ]
     },
     "execution_count": 3,
     "metadata": {},
     "output_type": "execute_result"
    }
   ],
   "source": [
    "close_prices = all_prices['Close']\n",
    "close_prices.head(3)"
   ]
  },
  {
   "cell_type": "markdown",
   "metadata": {},
   "source": [
    "Now we have a matrix of real numbers of shape ``T x A``, \n",
    "\n",
    "where T - is the number of time steps and A is the number of assets in the portfolio. "
   ]
  },
  {
   "cell_type": "markdown",
   "metadata": {},
   "source": [
    "## Returns"
   ]
  },
  {
   "cell_type": "markdown",
   "metadata": {},
   "source": [
    "Raw prices cannot be used for portfolio optimization. One needs to calculate the returns - price changes. There are two main forms of returns calculation (Dees & Sidier, 2019):\n",
    "1. **Gross returns** - the price at time t, divided by the price at time t-1.\n",
    "$$\n",
    "\\begin{align}\n",
    "R_t &\\doteq \\frac{p_t}{p_{t-1}} \\in \\mathbb{R} \\tag{1a} \\\\\n",
    "\\end{align}\n",
    "$$\n",
    "2. **Simple returns** - percentage change of price between t-1 and t.\n",
    "$$\n",
    "\\begin{align}\n",
    "r_t &\\doteq \\frac{p_t - p_{t-1}}{p_{t-1}} = \\frac{p_t}{p_{t-1}} - 1 = R_t - 1 \\in \\mathbb{R} & \\tag{1b} \\\\\n",
    "\\end{align}\n",
    "$$\n",
    "3. **Log returns**  - a log of simple returns used to avoid computational underflows.\n",
    "$$\\begin{align}\n",
    "p_t &\\doteq \\ln(R_t) \\in \\mathbb{R} & \\tag{1c} \\\\\n",
    "\\end{align}\n",
    "$$\n",
    "Here we will utilize simple returns `(1a)`, as they are easily interpretable "
   ]
  },
  {
   "cell_type": "code",
   "execution_count": 4,
   "metadata": {},
   "outputs": [
    {
     "data": {
      "text/html": [
       "<div>\n",
       "<style scoped>\n",
       "    .dataframe tbody tr th:only-of-type {\n",
       "        vertical-align: middle;\n",
       "    }\n",
       "\n",
       "    .dataframe tbody tr th {\n",
       "        vertical-align: top;\n",
       "    }\n",
       "\n",
       "    .dataframe thead th {\n",
       "        text-align: right;\n",
       "    }\n",
       "</style>\n",
       "<table border=\"1\" class=\"dataframe\">\n",
       "  <thead>\n",
       "    <tr style=\"text-align: right;\">\n",
       "      <th></th>\n",
       "      <th>AAPL</th>\n",
       "      <th>GOOG</th>\n",
       "      <th>MSFT</th>\n",
       "    </tr>\n",
       "    <tr>\n",
       "      <th>Date</th>\n",
       "      <th></th>\n",
       "      <th></th>\n",
       "      <th></th>\n",
       "    </tr>\n",
       "  </thead>\n",
       "  <tbody>\n",
       "    <tr>\n",
       "      <th>2020-01-03</th>\n",
       "      <td>-0.009722</td>\n",
       "      <td>-0.004907</td>\n",
       "      <td>-0.012452</td>\n",
       "    </tr>\n",
       "    <tr>\n",
       "      <th>2020-01-06</th>\n",
       "      <td>0.007968</td>\n",
       "      <td>0.024657</td>\n",
       "      <td>0.002585</td>\n",
       "    </tr>\n",
       "    <tr>\n",
       "      <th>2020-01-07</th>\n",
       "      <td>-0.004703</td>\n",
       "      <td>-0.000624</td>\n",
       "      <td>-0.009118</td>\n",
       "    </tr>\n",
       "  </tbody>\n",
       "</table>\n",
       "</div>"
      ],
      "text/plain": [
       "                AAPL      GOOG      MSFT\n",
       "Date                                    \n",
       "2020-01-03 -0.009722 -0.004907 -0.012452\n",
       "2020-01-06  0.007968  0.024657  0.002585\n",
       "2020-01-07 -0.004703 -0.000624 -0.009118"
      ]
     },
     "execution_count": 4,
     "metadata": {},
     "output_type": "execute_result"
    }
   ],
   "source": [
    "returns = close_prices.pct_change().dropna()\n",
    "returns.head(3)"
   ]
  },
  {
   "cell_type": "markdown",
   "metadata": {},
   "source": [
    "# Portfolio optimization\n",
    "\n",
    "## Porttfolio weights\n",
    "\n",
    "In this context, a portfolio is defined as a set of asset weights vector such that (Kolm et al., 2014):\n",
    "\n",
    "$$\n",
    "\\begin{align}\n",
    "\\bf{\\omega} = \\left[\\omega_1, \\omega_2, \\dots, \\omega_A \\right]^T,\\quad \\sum_{i=1}^A \\omega_i = 1 \\tag{2}\n",
    "\\end{align}\n",
    "$$\n",
    "\n",
    "where each $\\omega_i$  is a weight of the i-th asset in the portfolio.\n",
    "One might have, e.g., 20% of Apple stocks, 40% of Google Stocks, and 40% of Microsoft stocks. Therefore `[0.2, 0.4, 0.2]` is a set of portfolio weights.\n",
    "\n",
    "\n",
    "**Annualized, average asset returns** (mean returns multiplied by trading days), weighted by $\\omega$, constitute the portfolio returns. Formally:\n",
    "\n",
    "$$\\mu ^T \\bf{\\omega}$$\n",
    "\n",
    "\n",
    "## Theoretical foundation\n",
    "\n",
    "The portfolio **Mean-Variance optimization** problem can be defined as a constrained linear model as follows  (Capinski Marek & Zastawniak Tomasz, 2011; Kennedy, 2016; Kolm et al., 2014):\n",
    "1. The formulation as maximization problem: maximize portfolio returns while keeping variance below maximal level $\\sigma_{max}^2$\n",
    "$$\\begin{align}\n",
    "&\\max_{\\omega \\in \\Omega} \\omega^T\\mu & \\tag{3a}\\\\\n",
    "&\\text{Subject to:} \\\\\n",
    "&& \\omega^T \\Sigma \\omega \\le \\sigma^2_{max} \\\\\n",
    "&& \\sum \\omega  = 1\n",
    "\\end{align}\n",
    "$$\n",
    "2. The formulation as minimization problem: minimize portfolio variance while achieving at least minimal desired portfolio returns $R_min$:\n",
    "$$\\begin{align}\n",
    "& \\min_{\\omega \\in \\Omega} \\omega^T \\Sigma \\omega  & \\tag{3b}\\\\\n",
    "& \\text{Subject to:} \\\\\n",
    "&&  \\omega^T\\mu \\ge R_{min} \\\\\n",
    "&& \\sum \\omega  = 1\n",
    "\\end{align}\n",
    "$$\n",
    "\n",
    "Where $\\mu = \\begin{bmatrix}\\mu_1 \\\\ \\mu_2 \\\\ \\dots \\\\ \\mu_A\\end{bmatrix}, \\forall_i \\mu_i \\in \\mathbb{E}[r_i]$ is a vector of **annualized** (multiplied by trading days, usually 252) expected securities return and $\\Omega$ is a universe of all possible portfolio weights combinations. $\\Sigma$ is the **annualized** (multiplied by trading days, usually 252) asset returns covariance matrix, where $\\sigma_i$ is the standard deviation of returns $r_i$ (Capinski Marek & Zastawniak Tomasz, 2011; Kolm et al., 2014):\n",
    "\n",
    "$$\n",
    "\\Sigma = \\begin{bmatrix}\n",
    "\\sigma_{1,1} & \\sigma_{2,1} & \\dots & \\sigma_{A,1}\\\\\n",
    "\\sigma_{1,2} & \\sigma_{2,2} & \\dots & \\sigma_{A,2}\\\\\n",
    "\\vdots & \\vdots & \\ddots & \\vdots\\\\\n",
    "\\sigma_{1,T} & \\sigma_{2,T} & \\dots & \\sigma_{A,T}\\\\\n",
    "\\end{bmatrix}\n",
    "$$"
   ]
  },
  {
   "cell_type": "markdown",
   "metadata": {},
   "source": [
    "## \"Vanilla\" model extensions\n",
    "\n",
    "One of the typically used modifications to the baseline model is the **\"risk aversion\"** parameter, defining the degree to which the investor is willing to balance the risk level with expected returns (Wilmott, 2007). With this aversion parameter, the model is formalized as the following optimization problem (Dees & Sidier, 2019; Kolm et al., 2014):\n",
    "\n",
    "$$\\begin{align}\n",
    "&\\max_{\\omega \\in \\Omega} \\omega^T\\mu - \\alpha \\omega^T\\Sigma\\omega & \\tag{4a}\\\\\n",
    "&\\text{Subject to:} \\\\\n",
    "&& \\omega \\ge 0 \\\\\n",
    "&& \\sum \\omega  = 1\n",
    "\\end{align}\n",
    "$$\n",
    "\n",
    "Additionally, several objective functions can be selected as the optimization goal. One of the most interpretable ones is the utilization of the **Sharpe Ratio** (Sharpe, 1966, 1994), defined as the **reward-to-variability ratio**. Formally (Dees & Sidier, 2019; Goetzmann et al., 2014):\n",
    "\n",
    "$$\n",
    "\\begin{align}\n",
    "SR = \\frac{\\mu - R_f}{\\sigma_p} \\tag{4b}\n",
    "\\end{align}\n",
    "$$\n",
    "\n",
    "Where $\\mu$ is expected assets returns (as defined above), $R_f$ is the **risk-free rate (often set to zero or defined as the returns from the safest financial instrument on the market - e.g. state-issued bonds)**, and $\\sigma_p$ is a standard deviation of portfolio returns $\\sqrt{\\omega^T \\Sigma \\omega}$.\n",
    "When used as the objective function in the Markowitz model, the optimization problem is formalized (Dees & Sidier, 2019; Wilmott, 2007):\n",
    "\n",
    "$$\\begin{align}\n",
    "&\\max_{\\omega \\in \\Omega} \\frac{\\omega^T\\mu}{\\sqrt{\\omega^T \\Sigma \\omega}} & \\tag{4c}\\\\\n",
    "&\\text{Subject to:} \\\\\n",
    "&& \\omega \\ge 0 \\\\\n",
    "&& \\sum \\omega  = 1\n",
    "\\end{align}\n",
    "$$"
   ]
  },
  {
   "cell_type": "markdown",
   "metadata": {},
   "source": [
    "## Efficient frontier\n",
    "\n",
    "Different weights produce different portfolios varied in terms of returns and variance. An analyst can plot these portfolios on a chart where the x-axis represents variance, and the y-axis represents returns. \n",
    "\n",
    "Portfolios are considered \"efficient\" if they (Stoilova 2020; Luenberger 1997):\n",
    "\n",
    "1. For a given return (point on the y-axis), offer the lowest possible variance;\n",
    "2. For a given variance (point on the x-axis) offer the highest possible returns. \n",
    "\n",
    "Therefore efficient frontier is the line connecting the outermost points on the chart.\n",
    "\n",
    "![convert notebook to web app](Minimum_variance_flontier_of_MPT.svg)\n",
    "\n",
    "[Image source](https://commons.wikimedia.org/wiki/File:Minimum_variance_flontier_of_MPT.svg)\n"
   ]
  },
  {
   "cell_type": "markdown",
   "metadata": {},
   "source": [
    "# Python code"
   ]
  },
  {
   "cell_type": "markdown",
   "metadata": {},
   "source": [
    "## Vanilla optimization - CVXPY\n",
    "Let's try to port the **\"vanilla Markowitz\"** equations (3b) - risk minimization given expected return, directly to the Python code.\n",
    "\n",
    "$$\\begin{align}\n",
    "& \\min_{\\omega \\in \\Omega} \\omega^T \\Sigma \\omega  & \\tag{3b}\\\\\n",
    "& \\text{Subject to:} \\\\\n",
    "&&  \\omega^T\\mu \\ge R_{min} \\\\\n",
    "&& \\sum \\omega  = 1\n",
    "\\end{align}\n",
    "$$\n",
    "\n",
    "For this purpose, we will utilize the **CVXPY optimization library** - a powerful tool for solving linear programming and constraint optimization problems. \n",
    "\n",
    "[Link to documentation and tutorials](https://www.cvxpy.org/)."
   ]
  },
  {
   "cell_type": "code",
   "execution_count": 5,
   "metadata": {},
   "outputs": [
    {
     "name": "stdout",
     "output_type": "stream",
     "text": [
      "[0.421 0.398 0.181]\n"
     ]
    }
   ],
   "source": [
    "# Annualized mean returns and covariance: mean returns * trading days, cov matrix * trading days\n",
    "mu = returns.mean() * 252\n",
    "cov_mat = returns.cov() * 252\n",
    "\n",
    "# constraint - minmal expected return\n",
    "min_ret = 0.24\n",
    "\n",
    "# Direct implementation of equation 3b\n",
    "# variable to be optimized - portfolio weights\n",
    "w = cp.Variable(shape=mu.shape, nonneg=True)\n",
    "\n",
    "# An objective function to be minimized\n",
    "objective_min_risk = cp.quad_form(w, cov_mat)\n",
    "\n",
    "# List of constraints\n",
    "constraints = [\n",
    "    cp.sum(w) == 1,\n",
    "    (mu.values @ w) >= min_ret\n",
    "]\n",
    "\n",
    "# Problem definition and solution\n",
    "min_risk_problem = cp.Problem(cp.Minimize(objective_min_risk), constraints=constraints)\n",
    "min_risk_problem.solve()\n",
    "\n",
    "# Final weights\n",
    "print(w.value.round(3))"
   ]
  },
  {
   "cell_type": "markdown",
   "metadata": {},
   "source": [
    "Let's check the total portfolio return by calculating a dot-product between weights and annualized mean returns:"
   ]
  },
  {
   "cell_type": "code",
   "execution_count": 10,
   "metadata": {},
   "outputs": [
    {
     "data": {
      "text/plain": [
       "0.24"
      ]
     },
     "execution_count": 10,
     "metadata": {},
     "output_type": "execute_result"
    }
   ],
   "source": [
    "(mu @ w.value).round(3)"
   ]
  },
  {
   "cell_type": "markdown",
   "metadata": {},
   "source": [
    "## Risk aversion - CVXPY\n",
    "\n",
    "Let's try to implement directly in CVXPY equation `(4b)` - maximization of returns with risk aversion.\n",
    "\n",
    "\n",
    "$$\\begin{align}\n",
    "&\\max_{\\omega \\in \\Omega} \\omega^T\\mu - \\alpha \\omega^T\\Sigma\\omega & \\tag{4a}\\\\\n",
    "&\\text{Subject to:} \\\\\n",
    "&& \\omega \\ge 0 \\\\\n",
    "&& \\sum \\omega  = 1\n",
    "\\end{align}\n",
    "$$\n",
    "\n",
    "Let's try to solve it for $\\alpha = 0.2$"
   ]
  },
  {
   "cell_type": "code",
   "execution_count": 7,
   "metadata": {},
   "outputs": [
    {
     "name": "stdout",
     "output_type": "stream",
     "text": [
      "[1. 0. 0.]\n"
     ]
    }
   ],
   "source": [
    "# Annualized mean returns and covariance: mean returns * trading days, cov matrix * trading days\n",
    "mu = returns.mean() * 252\n",
    "cov_mat = returns.cov() * 252\n",
    "alpha = 0.2\n",
    "# Risk aversion parameter, example value\n",
    "\n",
    "# Direct implementation of equation 3b\n",
    "# variable to be optimized - portfolio weights\n",
    "w_risk_av = cp.Variable(shape=mu.shape, nonneg=True)\n",
    "\n",
    "# An objective function to be maximized\n",
    "objective_risk_av = (mu.values @ w_risk_av) - cp.multiply(alpha, cp.quad_form(w_risk_av, cov_mat))\n",
    "\n",
    "# List of constraints\n",
    "constraints = [\n",
    "    cp.sum(w_risk_av) == 1,\n",
    "    w_risk_av >= 0\n",
    "]\n",
    "\n",
    "# Problem definition and solution\n",
    "max_return_risk_av_problem = cp.Problem(cp.Maximize(objective_risk_av), constraints=constraints)\n",
    "max_return_risk_av_problem.solve()\n",
    "\n",
    "# Final weights\n",
    "print(w_risk_av.value.round(5))"
   ]
  },
  {
   "cell_type": "markdown",
   "metadata": {},
   "source": [
    "It seems that the portfolio that maximizes returns, given the risk-aversion parameter, consists solely of Apple."
   ]
  },
  {
   "cell_type": "markdown",
   "metadata": {},
   "source": [
    "## PyPortfolioOpt\n",
    "\n",
    "Python library **PyPortfolioOpt** automates most of the operations we have done above. It contains additional features like:\n",
    "1. **Multiple risk calculations** in the form of a plug-in function - an analyst can choose from a simple covariance matrix or more advanced calculations.\n",
    "2. **Multiple target functions** - including maximization of returns given some acceptable risk, minimization of risk given desired return, Sharpe ratio, etc.\n",
    "3. **Automatic option to validate portfolio** in-sample (using \"training data,\" on which optimization was done)."
   ]
  },
  {
   "cell_type": "markdown",
   "metadata": {},
   "source": [
    "Let's try to replicate the calculations from CVXPY.\n",
    "\n",
    "### PyPf - The \"vanilla scenario\""
   ]
  },
  {
   "cell_type": "code",
   "execution_count": 8,
   "metadata": {},
   "outputs": [
    {
     "data": {
      "text/plain": [
       "OrderedDict([('AAPL', 0.42125), ('GOOG', 0.39782), ('MSFT', 0.18093)])"
      ]
     },
     "execution_count": 8,
     "metadata": {},
     "output_type": "execute_result"
    }
   ],
   "source": [
    "# Set min desired return. Same as in the CVXPY case\n",
    "min_return = 0.24\n",
    "\n",
    "# Step 1: Calculate expected returns using library. Compunding=False uses simple average\n",
    "mu_pypf = pypf.expected_returns.mean_historical_return(close_prices, compounding=False)\n",
    "\n",
    "# Step 2: Calculate covariance matrix from prices. \n",
    "cov_pypf = pypf.risk_models.sample_cov(close_prices)\n",
    "\n",
    "# Step 3: Prepare efficient frontier for calculations.\n",
    "ef_vanilla = pypf.efficient_frontier.EfficientFrontier(mu_pypf, cov_pypf)\n",
    "\n",
    "# Step 4: Choose the objective funciton.\n",
    "ef_vanilla.efficient_return(min_return)\n",
    "\n",
    "# Step 5: Get 'clean weights' - rounded and cleaned from near-zero values\n",
    "ef_vanilla.clean_weights()"
   ]
  },
  {
   "cell_type": "markdown",
   "metadata": {},
   "source": [
    "The function to measure portfolio performance will give us:\n",
    "1. Total portfolio returns\n",
    "2. Volatility\n",
    "3. Sharpe ratio\n",
    "\n",
    "Let's check:"
   ]
  },
  {
   "cell_type": "code",
   "execution_count": 11,
   "metadata": {},
   "outputs": [
    {
     "name": "stdout",
     "output_type": "stream",
     "text": [
      "Total ret: 0.24, volatility: 0.33, Sharpe ratio: 0.67\n"
     ]
    }
   ],
   "source": [
    "total_returns, volatility, sharpe = ef_vanilla.portfolio_performance()\n",
    "print(f\"Total ret: {total_returns:.2f}, volatility: {volatility:.2f}, Sharpe ratio: {sharpe:.2f}\")"
   ]
  },
  {
   "cell_type": "markdown",
   "metadata": {},
   "source": [
    "Portfolio return is aligned with our manual calculations from pure optimization approach."
   ]
  },
  {
   "cell_type": "markdown",
   "metadata": {},
   "source": [
    "### PyPf - risk aversion scenario"
   ]
  },
  {
   "cell_type": "code",
   "execution_count": 12,
   "metadata": {},
   "outputs": [
    {
     "data": {
      "text/plain": [
       "OrderedDict([('AAPL', 1.0), ('GOOG', 0.0), ('MSFT', 0.0)])"
      ]
     },
     "execution_count": 12,
     "metadata": {},
     "output_type": "execute_result"
    }
   ],
   "source": [
    "# Set risk aversion parameter as before.\n",
    "alpha = 0.2\n",
    "\n",
    "# Step 1: Calculate expected returns using library. Compunding=False uses simple average\n",
    "mu_pypf = pypf.expected_returns.mean_historical_return(close_prices, compounding=False)\n",
    "\n",
    "# Step 2: Calculate covariance matrix from prices. \n",
    "cov_pypf = pypf.risk_models.sample_cov(close_prices)\n",
    "\n",
    "# Step 3: Prepare efficient frontier for calculations.\n",
    "ef_risk_av = pypf.efficient_frontier.EfficientFrontier(mu_pypf, cov_pypf)\n",
    "\n",
    "# Step 4: Choose the objective funciton.\n",
    "ef_risk_av.max_quadratic_utility(risk_aversion=alpha)\n",
    "\n",
    "# Step 5: Get 'clean weights' - rounded and cleaned from near-zero values\n",
    "ef_risk_av.clean_weights()"
   ]
  },
  {
   "cell_type": "markdown",
   "metadata": {},
   "source": [
    "Again - results are aligned with manual calculation from CVXPY."
   ]
  },
  {
   "cell_type": "markdown",
   "metadata": {},
   "source": [
    "# Efficient frontier in Python"
   ]
  },
  {
   "cell_type": "markdown",
   "metadata": {},
   "source": [
    "The library PyPorfolioOpt can produce Efficient Frontier plots as well. Once the target function has been selected, one can see different efficient frontier visualizations with possible asset configurations placed on the risk-reward scale."
   ]
  },
  {
   "cell_type": "code",
   "execution_count": 13,
   "metadata": {},
   "outputs": [
    {
     "data": {
      "image/png": "[encoded data removed]",
      "text/plain": [
       "<Figure size 432x288 with 1 Axes>"
      ]
     },
     "metadata": {
      "needs_background": "light"
     },
     "output_type": "display_data"
    },
    {
     "data": {
      "text/plain": [
       "<AxesSubplot:xlabel='Volatility', ylabel='Return'>"
      ]
     },
     "execution_count": 13,
     "metadata": {},
     "output_type": "execute_result"
    }
   ],
   "source": [
    "# Step 1: construct a new efficient frontier BEFORE calculating expected weights\n",
    "ef = pypf.EfficientFrontier(mu_pypf, cov_pypf, weight_bounds=(None, None))\n",
    "\n",
    "# Step 2: Choose what type of efficient frontier to plot: risk/return/utility?\n",
    "plotting.plot_efficient_frontier(\n",
    "    ef, \n",
    "    ef_param=\"return\",\n",
    "    show_assets=True, \n",
    "    showfig=True)"
   ]
  },
  {
   "cell_type": "markdown",
   "metadata": {},
   "source": [
    "# Summary\n",
    "\n",
    "Here is a brief summary of what topics were covered in this post:\n",
    "\n",
    "1. A portfolio is a set of assets/financial instruments that hold some value;\n",
    "2. These assets can have different weights, contributing to the total reward by the end of the period;\n",
    "3. The process of finding optimal weights (concerning some constraints and objectives - below) is called portfolio optimization;\n",
    "4. As the name suggests - this process (in its basic form) is a constrained linear programming problem;\n",
    "5. One of the best-known tools for solving such problems is called the \"Markovitz model\", which either:\n",
    "    1. minimizes risk for predefined minimal return;\n",
    "    2. maximizes return while trying to keep the risk below the maximally accepted level;\n",
    "6. Various portfolio compositions can be plotted using efficient frontier - on the risk-reward scale;\n",
    "7. Such problems can be solved in Python either:\n",
    "    1. using optimization libraries like CVXPY;\n",
    "    2. Using specialized libraries for portfolio optimization, like PyPortfolioOpt."
   ]
  },
  {
   "cell_type": "markdown",
   "metadata": {},
   "source": [
    "# Bibliography\n",
    "\n",
    "1. **Capinski Marek, & Zastawniak Tomasz**. (2011). Mathematics for Finance. Springer London.\n",
    "2. **Dees, B. S., & Sidier, G**. (2019). Reinforcement Learning for Portfolio Management. https://doi.org/10.48550/arxiv.1909.09571\n",
    "3. **Goetzmann, W. N., Brown, S. J., Gruber, M. J., & Elton, E. J.** (2014). Modern portfolio theory and investment analysis. John Wiley & Sons, 237.\n",
    "4. **Kennedy, D.** (2016). Stochastic financial models. CRC Press.\n",
    "5. **Kolm, P. N., Tütüncü, R., & Fabozzi, F. J.** (2014). 60 Years of portfolio optimization: Practical challenges and current trends. European Journal of Operational Research, 234(2). https://doi.org/10.1016/j.ejor.2013.10.060\n",
    "5. **Luenberger, D. G.** (1997). Investment science. Oxford Univ. Press.\n",
    "6. **Sharpe, W. F.** (1966). Mutual fund performance. The Journal of Business, 39(1), 119–138.\n",
    "7. **Sharpe, W. F.** (1994). The Sharpe Ratio, the journal of Portfolio Management. Stanfold University, Fall.\n",
    "8. **Stoilov, T., Stoilova, K., & Vladimirov, M.** (2020). Analytical overview and applications of modified black-litterman model for portfolio optimization. Cybernetics and Information Technologies, 20(2). https://doi.org/10.2478/cait-2020-0014\n",
    "8. **Wilmott, P.** (2007). Paul Wilmott introduces quantitative finance. John Wiley & Sons."
   ]
  }
 ],
 "metadata": {
  "kernelspec": {
   "display_name": "Python 3 (ipykernel)",
   "language": "python",
   "name": "python3"
  },
  "language_info": {
   "codemirror_mode": {
    "name": "ipython",
    "version": 3
   },
   "file_extension": ".py",
   "mimetype": "text/x-python",
   "name": "python",
   "nbconvert_exporter": "python",
   "pygments_lexer": "ipython3",
   "version": "3.9.12"
  },
  "vscode": {
   "interpreter": {
    "hash": "6c7ad9ae4a8a8ce4a7898c6f614de08e76c9dcad4943722b9c98e92978ae2d00"
   }
  }
 },
 "nbformat": 4,
 "nbformat_minor": 4
}
