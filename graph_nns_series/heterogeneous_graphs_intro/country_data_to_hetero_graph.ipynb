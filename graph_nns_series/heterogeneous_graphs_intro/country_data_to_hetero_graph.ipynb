{
 "cells": [
  {
   "cell_type": "markdown",
   "metadata": {},
   "source": [
    "# Intro\n",
    "\n",
    "This notebook shows how to convert the data obtained from DbPedia via query to a heterogeneous graph. The data is stored in a csv file. It will be converted to a graph using PyTorch Geometric.\n",
    "\n",
    "We will build a knowledge graph and treat \"NATO membership\" as target variable. The graph will contain the following nodes:\n",
    "1. Country\n",
    "2. Legislature\n",
    "3. House (of legislature)\n",
    "4. Government type\n",
    "5. Political party\n",
    "\n",
    "Such a structure will be a reflection of the following Neo4j conceptual model:\n",
    "\n",
    "![img](graph_model.png)"
   ]
  },
  {
   "cell_type": "markdown",
   "metadata": {},
   "source": [
    "# Lib imports"
   ]
  },
  {
   "cell_type": "code",
   "execution_count": 129,
   "metadata": {},
   "outputs": [],
   "source": [
    "import pandas as pd\n",
    "import torch_geometric as tg\n",
    "import torch_geometric.nn as tgnn\n",
    "import torch as th\n",
    "import torch.nn as nn\n",
    "import networkx as nx\n",
    "import numpy as np\n",
    "\n",
    "from sklearn.preprocessing import LabelEncoder"
   ]
  },
  {
   "cell_type": "markdown",
   "metadata": {},
   "source": [
    "# Reading the data"
   ]
  },
  {
   "cell_type": "markdown",
   "metadata": {},
   "source": [
    "We will be interested in mapping the following entities to nodes in the graph:\n",
    "1. Country - composed of the name, and additional features like: NATO member, EU member, Three Seas Initiative member.\n",
    "2. Legislature - composed of the name.\n",
    "3. Housename - another graph entity, connected to legislature.\n",
    "4. Government type - composed only of name.\n",
    "5. Political Subject - a wider concept connected to government type."
   ]
  },
  {
   "cell_type": "code",
   "execution_count": 2,
   "metadata": {},
   "outputs": [
    {
     "data": {
      "text/html": [
       "<div>\n",
       "<style scoped>\n",
       "    .dataframe tbody tr th:only-of-type {\n",
       "        vertical-align: middle;\n",
       "    }\n",
       "\n",
       "    .dataframe tbody tr th {\n",
       "        vertical-align: top;\n",
       "    }\n",
       "\n",
       "    .dataframe thead th {\n",
       "        text-align: right;\n",
       "    }\n",
       "</style>\n",
       "<table border=\"1\" class=\"dataframe\">\n",
       "  <thead>\n",
       "    <tr style=\"text-align: right;\">\n",
       "      <th></th>\n",
       "      <th>country_name</th>\n",
       "      <th>nato_member</th>\n",
       "      <th>eu_member</th>\n",
       "      <th>three_seas_member</th>\n",
       "      <th>countryid</th>\n",
       "      <th>legname</th>\n",
       "      <th>legislatureid</th>\n",
       "      <th>govtype</th>\n",
       "      <th>govtypeid</th>\n",
       "      <th>political_subject</th>\n",
       "      <th>subjectid</th>\n",
       "      <th>houseid</th>\n",
       "      <th>housename</th>\n",
       "    </tr>\n",
       "  </thead>\n",
       "  <tbody>\n",
       "    <tr>\n",
       "      <th>0</th>\n",
       "      <td>Republic of Slovenia</td>\n",
       "      <td>1</td>\n",
       "      <td>1</td>\n",
       "      <td>1</td>\n",
       "      <td>27338</td>\n",
       "      <td>Slovenian Parliament</td>\n",
       "      <td>5663885</td>\n",
       "      <td>Unitary parliamentary republic</td>\n",
       "      <td>48467292</td>\n",
       "      <td>Unitary state</td>\n",
       "      <td>65734150</td>\n",
       "      <td>1025128.0</td>\n",
       "      <td>National Assembly of the Republic of Slovenia</td>\n",
       "    </tr>\n",
       "    <tr>\n",
       "      <th>1</th>\n",
       "      <td>Republic of Poland</td>\n",
       "      <td>1</td>\n",
       "      <td>1</td>\n",
       "      <td>1</td>\n",
       "      <td>22936</td>\n",
       "      <td>Parliament of Poland</td>\n",
       "      <td>2986705</td>\n",
       "      <td>Unitary parliamentary republic</td>\n",
       "      <td>48467292</td>\n",
       "      <td>Unitary state</td>\n",
       "      <td>65734150</td>\n",
       "      <td>462813.0</td>\n",
       "      <td>Senate of the Republic of Poland</td>\n",
       "    </tr>\n",
       "    <tr>\n",
       "      <th>2</th>\n",
       "      <td>Hungary</td>\n",
       "      <td>1</td>\n",
       "      <td>1</td>\n",
       "      <td>1</td>\n",
       "      <td>13275</td>\n",
       "      <td>National Assembly</td>\n",
       "      <td>585416</td>\n",
       "      <td>Unitary parliamentary republic</td>\n",
       "      <td>48467292</td>\n",
       "      <td>Unitary state</td>\n",
       "      <td>65734150</td>\n",
       "      <td>NaN</td>\n",
       "      <td>NaN</td>\n",
       "    </tr>\n",
       "    <tr>\n",
       "      <th>3</th>\n",
       "      <td>Slovak Republic</td>\n",
       "      <td>1</td>\n",
       "      <td>1</td>\n",
       "      <td>1</td>\n",
       "      <td>26830</td>\n",
       "      <td>National Council of the Slovak Republic</td>\n",
       "      <td>494968</td>\n",
       "      <td>Unitary parliamentary republic</td>\n",
       "      <td>48467292</td>\n",
       "      <td>Unitary state</td>\n",
       "      <td>65734150</td>\n",
       "      <td>NaN</td>\n",
       "      <td>NaN</td>\n",
       "    </tr>\n",
       "    <tr>\n",
       "      <th>4</th>\n",
       "      <td>Republic of Bulgaria</td>\n",
       "      <td>1</td>\n",
       "      <td>1</td>\n",
       "      <td>1</td>\n",
       "      <td>3415</td>\n",
       "      <td>National Assembly</td>\n",
       "      <td>2122384</td>\n",
       "      <td>Unitary parliamentary republic</td>\n",
       "      <td>48467292</td>\n",
       "      <td>Unitary state</td>\n",
       "      <td>65734150</td>\n",
       "      <td>NaN</td>\n",
       "      <td>NaN</td>\n",
       "    </tr>\n",
       "  </tbody>\n",
       "</table>\n",
       "</div>"
      ],
      "text/plain": [
       "           country_name  nato_member  eu_member  three_seas_member  countryid  \\\n",
       "0  Republic of Slovenia            1          1                  1      27338   \n",
       "1    Republic of Poland            1          1                  1      22936   \n",
       "2               Hungary            1          1                  1      13275   \n",
       "3       Slovak Republic            1          1                  1      26830   \n",
       "4  Republic of Bulgaria            1          1                  1       3415   \n",
       "\n",
       "                                   legname  legislatureid  \\\n",
       "0                     Slovenian Parliament        5663885   \n",
       "1                     Parliament of Poland        2986705   \n",
       "2                        National Assembly         585416   \n",
       "3  National Council of the Slovak Republic         494968   \n",
       "4                        National Assembly        2122384   \n",
       "\n",
       "                          govtype  govtypeid political_subject  subjectid  \\\n",
       "0  Unitary parliamentary republic   48467292     Unitary state   65734150   \n",
       "1  Unitary parliamentary republic   48467292     Unitary state   65734150   \n",
       "2  Unitary parliamentary republic   48467292     Unitary state   65734150   \n",
       "3  Unitary parliamentary republic   48467292     Unitary state   65734150   \n",
       "4  Unitary parliamentary republic   48467292     Unitary state   65734150   \n",
       "\n",
       "     houseid                                      housename  \n",
       "0  1025128.0  National Assembly of the Republic of Slovenia  \n",
       "1   462813.0               Senate of the Republic of Poland  \n",
       "2        NaN                                            NaN  \n",
       "3        NaN                                            NaN  \n",
       "4        NaN                                            NaN  "
      ]
     },
     "execution_count": 2,
     "metadata": {},
     "output_type": "execute_result"
    }
   ],
   "source": [
    "raw_data = pd.read_csv(\"countries_data.csv\")\n",
    "raw_data.head()"
   ]
  },
  {
   "cell_type": "code",
   "execution_count": 3,
   "metadata": {},
   "outputs": [
    {
     "data": {
      "text/html": [
       "<div>\n",
       "<style scoped>\n",
       "    .dataframe tbody tr th:only-of-type {\n",
       "        vertical-align: middle;\n",
       "    }\n",
       "\n",
       "    .dataframe tbody tr th {\n",
       "        vertical-align: top;\n",
       "    }\n",
       "\n",
       "    .dataframe thead th {\n",
       "        text-align: right;\n",
       "    }\n",
       "</style>\n",
       "<table border=\"1\" class=\"dataframe\">\n",
       "  <thead>\n",
       "    <tr style=\"text-align: right;\">\n",
       "      <th></th>\n",
       "      <th>country_name</th>\n",
       "      <th>nato_member</th>\n",
       "      <th>eu_member</th>\n",
       "      <th>three_seas_member</th>\n",
       "      <th>legname</th>\n",
       "      <th>housename</th>\n",
       "      <th>govtype</th>\n",
       "      <th>political_subject</th>\n",
       "    </tr>\n",
       "  </thead>\n",
       "  <tbody>\n",
       "    <tr>\n",
       "      <th>0</th>\n",
       "      <td>Republic of Slovenia</td>\n",
       "      <td>1</td>\n",
       "      <td>1</td>\n",
       "      <td>1</td>\n",
       "      <td>Slovenian Parliament</td>\n",
       "      <td>National Assembly of the Republic of Slovenia</td>\n",
       "      <td>Unitary parliamentary republic</td>\n",
       "      <td>Unitary state</td>\n",
       "    </tr>\n",
       "    <tr>\n",
       "      <th>1</th>\n",
       "      <td>Republic of Poland</td>\n",
       "      <td>1</td>\n",
       "      <td>1</td>\n",
       "      <td>1</td>\n",
       "      <td>Parliament of Poland</td>\n",
       "      <td>Senate of the Republic of Poland</td>\n",
       "      <td>Unitary parliamentary republic</td>\n",
       "      <td>Unitary state</td>\n",
       "    </tr>\n",
       "    <tr>\n",
       "      <th>2</th>\n",
       "      <td>Hungary</td>\n",
       "      <td>1</td>\n",
       "      <td>1</td>\n",
       "      <td>1</td>\n",
       "      <td>National Assembly</td>\n",
       "      <td>NaN</td>\n",
       "      <td>Unitary parliamentary republic</td>\n",
       "      <td>Unitary state</td>\n",
       "    </tr>\n",
       "  </tbody>\n",
       "</table>\n",
       "</div>"
      ],
      "text/plain": [
       "           country_name  nato_member  eu_member  three_seas_member  \\\n",
       "0  Republic of Slovenia            1          1                  1   \n",
       "1    Republic of Poland            1          1                  1   \n",
       "2               Hungary            1          1                  1   \n",
       "\n",
       "                legname                                      housename  \\\n",
       "0  Slovenian Parliament  National Assembly of the Republic of Slovenia   \n",
       "1  Parliament of Poland               Senate of the Republic of Poland   \n",
       "2     National Assembly                                            NaN   \n",
       "\n",
       "                          govtype political_subject  \n",
       "0  Unitary parliamentary republic     Unitary state  \n",
       "1  Unitary parliamentary republic     Unitary state  \n",
       "2  Unitary parliamentary republic     Unitary state  "
      ]
     },
     "execution_count": 3,
     "metadata": {},
     "output_type": "execute_result"
    }
   ],
   "source": [
    "cols_of_interest = {\n",
    "    'country': ['country_name', 'nato_member', 'eu_member', 'three_seas_member'],\n",
    "    'legislature': ['legname'],\n",
    "    'house': ['housename'],\n",
    "    'govtype': ['govtype'],\n",
    "    'political_subject': ['political_subject'],\n",
    "}\n",
    "\n",
    "data = raw_data.loc[:, list([col for lst in cols_of_interest.values() for col in lst])]\n",
    "data.head(3)"
   ]
  },
  {
   "cell_type": "markdown",
   "metadata": {},
   "source": [
    "# Mapping the data to ids\n",
    "\n",
    "Torch Geometric graphs cannot handle textual data. Therefore we will map each name to numerical label, starting from 0.\n",
    "\n",
    "For this purpose we will utilize the LabelEncoder from sklearn."
   ]
  },
  {
   "cell_type": "code",
   "execution_count": 4,
   "metadata": {},
   "outputs": [],
   "source": [
    "mappers = {\n",
    "    'country_name': LabelEncoder(),\n",
    "    'legname': LabelEncoder(),\n",
    "    'housename': LabelEncoder(),\n",
    "    'govtype': LabelEncoder(),\n",
    "    'political_subject': LabelEncoder(),\n",
    "}\n",
    "\n",
    "data_mapped = data.copy()\n",
    "\n",
    "for colname, mapper in mappers.items():\n",
    "    data_mapped[colname] = mapper.fit_transform(data[colname])\n",
    "\n",
    "data_mapped[cols_of_interest['country'][1:]] = data[cols_of_interest['country'][1:]]"
   ]
  },
  {
   "cell_type": "code",
   "execution_count": 5,
   "metadata": {},
   "outputs": [
    {
     "data": {
      "text/html": [
       "<div>\n",
       "<style scoped>\n",
       "    .dataframe tbody tr th:only-of-type {\n",
       "        vertical-align: middle;\n",
       "    }\n",
       "\n",
       "    .dataframe tbody tr th {\n",
       "        vertical-align: top;\n",
       "    }\n",
       "\n",
       "    .dataframe thead th {\n",
       "        text-align: right;\n",
       "    }\n",
       "</style>\n",
       "<table border=\"1\" class=\"dataframe\">\n",
       "  <thead>\n",
       "    <tr style=\"text-align: right;\">\n",
       "      <th></th>\n",
       "      <th>country_name</th>\n",
       "      <th>nato_member</th>\n",
       "      <th>eu_member</th>\n",
       "      <th>three_seas_member</th>\n",
       "      <th>legname</th>\n",
       "      <th>housename</th>\n",
       "      <th>govtype</th>\n",
       "      <th>political_subject</th>\n",
       "    </tr>\n",
       "  </thead>\n",
       "  <tbody>\n",
       "    <tr>\n",
       "      <th>0</th>\n",
       "      <td>131</td>\n",
       "      <td>1</td>\n",
       "      <td>1</td>\n",
       "      <td>1</td>\n",
       "      <td>149</td>\n",
       "      <td>28</td>\n",
       "      <td>17</td>\n",
       "      <td>7</td>\n",
       "    </tr>\n",
       "    <tr>\n",
       "      <th>1</th>\n",
       "      <td>123</td>\n",
       "      <td>1</td>\n",
       "      <td>1</td>\n",
       "      <td>1</td>\n",
       "      <td>116</td>\n",
       "      <td>51</td>\n",
       "      <td>17</td>\n",
       "      <td>7</td>\n",
       "    </tr>\n",
       "    <tr>\n",
       "      <th>2</th>\n",
       "      <td>32</td>\n",
       "      <td>1</td>\n",
       "      <td>1</td>\n",
       "      <td>1</td>\n",
       "      <td>56</td>\n",
       "      <td>61</td>\n",
       "      <td>17</td>\n",
       "      <td>7</td>\n",
       "    </tr>\n",
       "  </tbody>\n",
       "</table>\n",
       "</div>"
      ],
      "text/plain": [
       "   country_name  nato_member  eu_member  three_seas_member  legname  \\\n",
       "0           131            1          1                  1      149   \n",
       "1           123            1          1                  1      116   \n",
       "2            32            1          1                  1       56   \n",
       "\n",
       "   housename  govtype  political_subject  \n",
       "0         28       17                  7  \n",
       "1         51       17                  7  \n",
       "2         61       17                  7  "
      ]
     },
     "execution_count": 5,
     "metadata": {},
     "output_type": "execute_result"
    }
   ],
   "source": [
    "data_mapped.head(3)"
   ]
  },
  {
   "cell_type": "markdown",
   "metadata": {},
   "source": [
    "# Building a graph\n",
    "\n",
    "Heterogeous graphs in PyTorch Geometric are represented by a **dictionary of edge types**. Each edge type is a tuple of two lists: the first one contains the source nodes, the second one contains the target nodes.\n",
    "\n",
    "Additionally, we can provide a dictionary of **node features**. Each key in the dictionary is a node type, and the value is a tensor of node features. \n",
    "\n",
    "In our case - it will be just an id of node (country, legislature, etc.), and for country case - additional features like NATO member, EU member, Three Seas Initiative member.\n",
    "We will use mapped id labels for each node type - e.g. USA=0, Germany=1, etc. When building a graph model, label ids can be used in the embedding lookup dict."
   ]
  },
  {
   "cell_type": "markdown",
   "metadata": {},
   "source": [
    "First we will fill the node features dictionary."
   ]
  },
  {
   "cell_type": "code",
   "execution_count": 173,
   "metadata": {},
   "outputs": [],
   "source": [
    "country_features = data_mapped[cols_of_interest['country']].drop_duplicates()"
   ]
  },
  {
   "cell_type": "code",
   "execution_count": 169,
   "metadata": {},
   "outputs": [
    {
     "data": {
      "text/plain": [
       "HeteroData(\n",
       "  \u001b[1mcountry\u001b[0m={\n",
       "    x=[173, 3],\n",
       "    y=[173]\n",
       "  },\n",
       "  \u001b[1mlegislature\u001b[0m={ x=[165] },\n",
       "  \u001b[1mhouse\u001b[0m={ x=[62] },\n",
       "  \u001b[1mgovtype\u001b[0m={ x=[19] },\n",
       "  \u001b[1mpolitical_subject\u001b[0m={ x=[8] }\n",
       ")"
      ]
     },
     "execution_count": 169,
     "metadata": {},
     "output_type": "execute_result"
    }
   ],
   "source": [
    "# Step 1: Create heterogenous graph\n",
    "hetero_data = tg.data.HeteroData()\n",
    "\n",
    "# Step 2: Add country features\n",
    "hetero_data['country'].x = th.tensor(country_features.drop(columns='nato_member').values).to(th.float)\n",
    "\n",
    "# Step 3: add y for country = NATO membership\n",
    "hetero_data['country'].y = th.tensor(country_features['nato_member'].values)\n",
    "\n",
    "# Step 4: add legislature id mappings\n",
    "hetero_data['legislature'].x = th.tensor(np.arange(mappers['legname'].classes_.shape[0]))\n",
    "\n",
    "# Step 5: add house id mappings\n",
    "hetero_data['house'].x = th.tensor(np.arange(mappers['housename'].classes_.shape[0]))\n",
    "\n",
    "# Step 6: add govtype id mappings\n",
    "hetero_data['govtype'].x = th.tensor(np.arange(mappers['govtype'].classes_.shape[0]))\n",
    "\n",
    "# Step 7: add political_subject id mappings\n",
    "hetero_data['political_subject'].x = th.tensor(np.arange(mappers['political_subject'].classes_.shape[0]))\n",
    "\n",
    "hetero_data"
   ]
  },
  {
   "cell_type": "markdown",
   "metadata": {},
   "source": [
    "Next we will build the edge types dictionary."
   ]
  },
  {
   "cell_type": "code",
   "execution_count": 170,
   "metadata": {},
   "outputs": [],
   "source": [
    "# Building edge indices for the heterogenous graph\n",
    "hetero_data['country', 'is_a', 'govtype'].edge_index = th.tensor(data_mapped[['country_name', 'govtype']].drop_duplicates().values.T, dtype=th.long)\n",
    "hetero_data['country', 'has_a', 'legislature'].edge_index = th.tensor(data_mapped[['country_name', 'legname']].drop_duplicates().values.T, dtype=th.long)\n",
    "hetero_data['legislature', 'contains', 'house'].edge_index = th.tensor(data_mapped[['legname', 'housename']].drop_duplicates().values.T, dtype=th.long)\n",
    "hetero_data['govtype', 'concerns', 'political_subject'].edge_index = th.tensor(data_mapped[['govtype', 'political_subject']].drop_duplicates().values.T, dtype=th.long)"
   ]
  },
  {
   "cell_type": "code",
   "execution_count": 171,
   "metadata": {},
   "outputs": [
    {
     "data": {
      "text/plain": [
       "HeteroData(\n",
       "  \u001b[1mcountry\u001b[0m={\n",
       "    x=[173, 3],\n",
       "    y=[173]\n",
       "  },\n",
       "  \u001b[1mlegislature\u001b[0m={ x=[165] },\n",
       "  \u001b[1mhouse\u001b[0m={ x=[62] },\n",
       "  \u001b[1mgovtype\u001b[0m={ x=[19] },\n",
       "  \u001b[1mpolitical_subject\u001b[0m={ x=[8] },\n",
       "  \u001b[1m(country, is_a, govtype)\u001b[0m={ edge_index=[2, 261] },\n",
       "  \u001b[1m(country, has_a, legislature)\u001b[0m={ edge_index=[2, 193] },\n",
       "  \u001b[1m(legislature, contains, house)\u001b[0m={ edge_index=[2, 257] },\n",
       "  \u001b[1m(govtype, concerns, political_subject)\u001b[0m={ edge_index=[2, 22] }\n",
       ")"
      ]
     },
     "execution_count": 171,
     "metadata": {},
     "output_type": "execute_result"
    }
   ],
   "source": [
    "hetero_data"
   ]
  },
  {
   "cell_type": "markdown",
   "metadata": {},
   "source": [
    "Many heterogeneous graph models require that each edge type is undirected. Therefore we need to add the reverse edges to the edge types dictionary."
   ]
  },
  {
   "cell_type": "code",
   "execution_count": 174,
   "metadata": {},
   "outputs": [],
   "source": [
    "to_undir = tg.transforms.ToUndirected()\n",
    "hetero_data_undir = to_undir(hetero_data)"
   ]
  },
  {
   "cell_type": "code",
   "execution_count": 175,
   "metadata": {},
   "outputs": [
    {
     "data": {
      "text/plain": [
       "HeteroData(\n",
       "  \u001b[1mcountry\u001b[0m={\n",
       "    x=[173, 3],\n",
       "    y=[173]\n",
       "  },\n",
       "  \u001b[1mlegislature\u001b[0m={ x=[165] },\n",
       "  \u001b[1mhouse\u001b[0m={ x=[62] },\n",
       "  \u001b[1mgovtype\u001b[0m={ x=[19] },\n",
       "  \u001b[1mpolitical_subject\u001b[0m={ x=[8] },\n",
       "  \u001b[1m(country, is_a, govtype)\u001b[0m={ edge_index=[2, 261] },\n",
       "  \u001b[1m(country, has_a, legislature)\u001b[0m={ edge_index=[2, 193] },\n",
       "  \u001b[1m(legislature, contains, house)\u001b[0m={ edge_index=[2, 257] },\n",
       "  \u001b[1m(govtype, concerns, political_subject)\u001b[0m={ edge_index=[2, 22] },\n",
       "  \u001b[1m(govtype, rev_is_a, country)\u001b[0m={ edge_index=[2, 261] },\n",
       "  \u001b[1m(legislature, rev_has_a, country)\u001b[0m={ edge_index=[2, 193] },\n",
       "  \u001b[1m(house, rev_contains, legislature)\u001b[0m={ edge_index=[2, 257] },\n",
       "  \u001b[1m(political_subject, rev_concerns, govtype)\u001b[0m={ edge_index=[2, 22] },\n",
       "  \u001b[1m(country, rev_rev_is_a, govtype)\u001b[0m={ edge_index=[2, 261] },\n",
       "  \u001b[1m(country, rev_rev_has_a, legislature)\u001b[0m={ edge_index=[2, 193] },\n",
       "  \u001b[1m(legislature, rev_rev_contains, house)\u001b[0m={ edge_index=[2, 257] },\n",
       "  \u001b[1m(govtype, rev_rev_concerns, political_subject)\u001b[0m={ edge_index=[2, 22] }\n",
       ")"
      ]
     },
     "execution_count": 175,
     "metadata": {},
     "output_type": "execute_result"
    }
   ],
   "source": [
    "hetero_data_undir"
   ]
  },
  {
   "cell_type": "markdown",
   "metadata": {},
   "source": [
    "# Split data\n",
    "\n",
    "Now we can autoatically split graph into train-test-validation sets without a data leakages. \n",
    "Of course, in this example we have very few observations for NATO countries, but the idea remains the same, regardless of the number of observations or target variable."
   ]
  },
  {
   "cell_type": "code",
   "execution_count": 163,
   "metadata": {},
   "outputs": [],
   "source": [
    "node_split = tg.transforms.RandomNodeSplit(\n",
    "    split='train_rest',\n",
    "    num_val=15,\n",
    "    num_test=15,\n",
    ")\n",
    "hetero_data_undir_split = node_split(hetero_data_undir)"
   ]
  },
  {
   "cell_type": "code",
   "execution_count": 164,
   "metadata": {},
   "outputs": [],
   "source": [
    "loader = tg.loader.HGTLoader(\n",
    "    hetero_data_undir,\n",
    "    num_samples={key: [10] * 2 for key in hetero_data_undir.node_types},\n",
    "    batch_size=32,\n",
    "    input_nodes=('country', hetero_data_undir['country'].train_mask),\n",
    ")"
   ]
  },
  {
   "cell_type": "code",
   "execution_count": 165,
   "metadata": {},
   "outputs": [
    {
     "data": {
      "text/plain": [
       "HeteroData(\n",
       "  \u001b[1mcountry\u001b[0m={\n",
       "    x=[64, 3],\n",
       "    y=[64],\n",
       "    train_mask=[64],\n",
       "    val_mask=[64],\n",
       "    test_mask=[64],\n",
       "    n_id=[64],\n",
       "    input_id=[32],\n",
       "    batch_size=32\n",
       "  },\n",
       "  \u001b[1mlegislature\u001b[0m={\n",
       "    x=[34, 1],\n",
       "    n_id=[34]\n",
       "  },\n",
       "  \u001b[1mhouse\u001b[0m={\n",
       "    x=[23, 1],\n",
       "    n_id=[23]\n",
       "  },\n",
       "  \u001b[1mgovtype\u001b[0m={\n",
       "    x=[11, 1],\n",
       "    n_id=[11]\n",
       "  },\n",
       "  \u001b[1mpolitical_subject\u001b[0m={\n",
       "    x=[6, 1],\n",
       "    n_id=[6]\n",
       "  },\n",
       "  \u001b[1m(country, is_a, govtype)\u001b[0m={\n",
       "    edge_index=[2, 75],\n",
       "    e_id=[75]\n",
       "  },\n",
       "  \u001b[1m(country, has_a, legislature)\u001b[0m={\n",
       "    edge_index=[2, 44],\n",
       "    e_id=[44]\n",
       "  },\n",
       "  \u001b[1m(legislature, contains, house)\u001b[0m={\n",
       "    edge_index=[2, 85],\n",
       "    e_id=[85]\n",
       "  },\n",
       "  \u001b[1m(govtype, concerns, political_subject)\u001b[0m={\n",
       "    edge_index=[2, 11],\n",
       "    e_id=[11]\n",
       "  },\n",
       "  \u001b[1m(govtype, rev_is_a, country)\u001b[0m={\n",
       "    edge_index=[2, 95],\n",
       "    e_id=[95]\n",
       "  },\n",
       "  \u001b[1m(legislature, rev_has_a, country)\u001b[0m={\n",
       "    edge_index=[2, 44],\n",
       "    e_id=[44]\n",
       "  },\n",
       "  \u001b[1m(house, rev_contains, legislature)\u001b[0m={\n",
       "    edge_index=[2, 98],\n",
       "    e_id=[98]\n",
       "  },\n",
       "  \u001b[1m(political_subject, rev_concerns, govtype)\u001b[0m={\n",
       "    edge_index=[2, 11],\n",
       "    e_id=[11]\n",
       "  }\n",
       ")"
      ]
     },
     "execution_count": 165,
     "metadata": {},
     "output_type": "execute_result"
    }
   ],
   "source": [
    "batch = next(iter(loader))\n",
    "batch"
   ]
  }
 ],
 "metadata": {
  "kernelspec": {
   "display_name": "py39",
   "language": "python",
   "name": "python3"
  },
  "language_info": {
   "codemirror_mode": {
    "name": "ipython",
    "version": 3
   },
   "file_extension": ".py",
   "mimetype": "text/x-python",
   "name": "python",
   "nbconvert_exporter": "python",
   "pygments_lexer": "ipython3",
   "version": "3.9.13"
  },
  "orig_nbformat": 4
 },
 "nbformat": 4,
 "nbformat_minor": 2
}
