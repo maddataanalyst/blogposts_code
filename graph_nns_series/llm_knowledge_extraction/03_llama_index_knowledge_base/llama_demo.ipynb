{
 "cells": [
  {
   "cell_type": "markdown",
   "metadata": {},
   "source": [
    "# Intro\n",
    "\n",
    "This notebook presents how to use LLama Index library in connection with any selected LLM to build knowledge graph from plain text.\n",
    "\n",
    "In an additional Python module I provide convenience functions to setup the LLM for LLama index. When preparing this material I was using local instance of LLama, so when replicating results or playing with it, remember to adjust the code for your needs."
   ]
  },
  {
   "cell_type": "markdown",
   "metadata": {},
   "source": [
    "# Lib imports"
   ]
  },
  {
   "cell_type": "code",
   "execution_count": 25,
   "metadata": {},
   "outputs": [],
   "source": [
    "import os\n",
    "import llm_utils as utils\n",
    "import networkx as nx\n",
    "import pyvis as pv\n",
    "import matplotlib.pyplot as plt\n",
    "\n",
    "from IPython.display import HTML\n",
    "\n",
    "from llama_index import (\n",
    "    ServiceContext,\n",
    "    SimpleDirectoryReader,\n",
    "    KnowledgeGraphIndex,\n",
    "    set_global_service_context,\n",
    "    PromptTemplate\n",
    ")\n",
    "from llama_index.prompts.default_prompts import DEFAULT_KG_TRIPLET_EXTRACT_TMPL"
   ]
  },
  {
   "cell_type": "markdown",
   "metadata": {},
   "source": [
    "# LLM setup\n",
    "\n",
    "Now let's set up the LLM model. For the sake of this tutorial - I rely on local instance of LLama2. You can experiment and play with any model of your choice - either from OpenAI, AzureOpenAI or any other. \n",
    "\n",
    "Utils lib provides some convenience functions to setup the LLM for LLama index."
   ]
  },
  {
   "cell_type": "code",
   "execution_count": 2,
   "metadata": {},
   "outputs": [],
   "source": [
    "llm, embed = utils.setup_local_llama()"
   ]
  },
  {
   "cell_type": "markdown",
   "metadata": {},
   "source": [
    "We can check if our LLM repsonds to queries?"
   ]
  },
  {
   "cell_type": "code",
   "execution_count": 3,
   "metadata": {},
   "outputs": [
    {
     "name": "stdout",
     "output_type": "stream",
     "text": [
      "a German-born theoretical physicist who is best known for his theory of relativity, specifically the mass-energy equivalence formula E=mc². He was born on March 14, 1879, in Ulm, Germany, and died on April 18, 1955, in Princeton, New Jersey, USA. Einstein's work has had a significant impact on the development of modern physics, and he is widely regarded as one of the most influential scientists of the 20th century. In 1921, he was awarded the Nobel Prize in Physics for his discovery of the photoelectric effect, which contributed to the development of quantum theory.\n"
     ]
    }
   ],
   "source": [
    "resp = llm.complete(\"Albert Einstein was\")\n",
    "print(resp)"
   ]
  },
  {
   "cell_type": "markdown",
   "metadata": {},
   "source": [
    "# Setting up a Llama index"
   ]
  },
  {
   "cell_type": "markdown",
   "metadata": {},
   "source": [
    "## **First step** - service context steup\n",
    "\n",
    "It is responsible for handling LLM and embedding model interactions."
   ]
  },
  {
   "cell_type": "code",
   "execution_count": 4,
   "metadata": {},
   "outputs": [],
   "source": [
    "service_context = ServiceContext.from_defaults(llm=llm, embed_model=embed)\n",
    "set_global_service_context(service_context)"
   ]
  },
  {
   "cell_type": "markdown",
   "metadata": {},
   "source": [
    "## **Second step** - reading documents\n",
    "\n",
    "Now we will read from directory into the Llama index."
   ]
  },
  {
   "cell_type": "code",
   "execution_count": 5,
   "metadata": {},
   "outputs": [],
   "source": [
    "documents = SimpleDirectoryReader(os.path.join(os.pardir, 'data')).load_data()"
   ]
  },
  {
   "cell_type": "code",
   "execution_count": 8,
   "metadata": {},
   "outputs": [
    {
     "data": {
      "text/plain": [
       "'It is no secret that the two most recent U.S. Pres'"
      ]
     },
     "execution_count": 8,
     "metadata": {},
     "output_type": "execute_result"
    }
   ],
   "source": [
    "documents[0].text[:50]"
   ]
  },
  {
   "cell_type": "markdown",
   "metadata": {},
   "source": [
    "## **Third step** - building index\n",
    "\n",
    "Now we will build Knowledge Graph Index. Under the hood LLM, after reading the text will respond with triplets (subject, predicate, object). We will use them to build the index."
   ]
  },
  {
   "cell_type": "markdown",
   "metadata": {},
   "source": [
    "We will change the extraction prompt, so the LLM will try to use the same name for different entities.\n",
    "For this purpose we will modify the existing, default prompt template."
   ]
  },
  {
   "cell_type": "code",
   "execution_count": 17,
   "metadata": {},
   "outputs": [
    {
     "name": "stdout",
     "output_type": "stream",
     "text": [
      "Some text is provided below. Given the text, extract up to {max_knowledge_triplets} knowledge triplets in the form of (subject, predicate, object). Avoid stopwords.\n",
      "---------------------\n",
      "Example:Text: Alice is Bob's mother.Triplets:\n",
      "(Alice, is mother of, Bob)\n",
      "Text: Philz is a coffee shop founded in Berkeley in 1982.\n",
      "Triplets:\n",
      "(Philz, is, coffee shop)\n",
      "(Philz, founded in, Berkeley)\n",
      "(Philz, founded in, 1982)\n",
      "---------------------\n",
      "\n",
      "When you encounter entities that look similar but are differently spelled (e.g. John Doe and J. Doe),\n",
      "use one name for all occurences, when extracting them from text.\n",
      "\n",
      "Text: {text}\n",
      "\n",
      "Triplets:\n",
      "\n"
     ]
    }
   ],
   "source": [
    "prompt_text = DEFAULT_KG_TRIPLET_EXTRACT_TMPL[:-23] + \"\"\"\n",
    "When you encounter entities that look similar but are differently spelled (e.g. John Doe and J. Doe),\n",
    "use one name for all occurences, when extracting them from text.\n",
    "\n",
    "Text: {text}\n",
    "\n",
    "Triplets:\n",
    "\"\"\"\n",
    "\n",
    "print(prompt_text)"
   ]
  },
  {
   "cell_type": "code",
   "execution_count": 18,
   "metadata": {},
   "outputs": [],
   "source": [
    "prompt_template = PromptTemplate(prompt_text)"
   ]
  },
  {
   "cell_type": "code",
   "execution_count": 19,
   "metadata": {},
   "outputs": [
    {
     "name": "stdout",
     "output_type": "stream",
     "text": [
      "(US Presidents, have had, different approaches)\n",
      "(Donald Trump, taking, conservative stance)\n",
      "(Donald Trump, taking, divisive stance)\n",
      "(Joe Biden, emphasizing, importance of international cooperation)\n",
      "(Joe Biden, restoring, normalcy to White House)\n",
      "(Joe Biden, has, more traditional policies)\n",
      "(Joe Biden, has, centrist policies)\n",
      "(Trump, known for, America First approach)\n",
      "(Trump, pulling back from, international agreements)\n",
      "(Trump, prioritizing, interests of United States)\n",
      "(Trump, had, tumultuous relationship with world leaders)\n",
      "(Biden, emphasized, international cooperation)\n",
      "(Biden, rebuilding, relationships with allies)\n",
      "(Biden, rejoined, Paris Climate Agreement)\n",
      "(Biden, rejoined, World Health Organization)\n",
      "(Biden, repairing, relationships with Mexico and Canada)\n",
      "(Biden, taking, diplomatic approach with Iran and North Korea)\n",
      "(Trump, pursued, conservative agenda)\n",
      "(Trump, attempted to repeal, Affordable Care Act)\n",
      "(Trump, rolled back, environmental regulations)\n",
      "(Trump, cut taxes, for businesses and wealthy)\n",
      "(Trump, implemented, hardline immigration policies)\n",
      "(Trump, implemented, zero tolerance policy at border)\n",
      "(Trump, implemented, travel ban targeting Muslim countries)\n",
      "(Biden, pursued, liberal agenda)\n",
      "(Biden, focusing on, racial justice)\n",
      "(Biden, focusing on, healthcare)\n",
      "(Biden, focusing on, climate change)\n",
      "(Biden, signed, executive orders on voting rights)\n",
      "(Biden, signed, executive orders on gun control)\n",
      "(Biden, signed, executive orders on climate change)\n",
      "(Biden, proposed, legislation on healthcare)\n",
      "(Biden, proposed, legislation on infrastructure)\n",
      "(Biden, proposed, legislation on immigration reform)\n",
      "(Biden, emphasized, working with Congress)\n",
      "(Biden, emphasized, building consensus)\n",
      "(Trump, known for, bold approach)\n",
      "(Trump, known for, combative approach)\n",
      "(Trump, used, Twitter to attack opponents)\n",
      "(Trump, faced, accusations of corruption)\n",
      "(Trump, faced, accusations of abuse of power)\n",
      "(Trump, faced, impeachment trial)\n",
      "(Biden, taken, conciliatory approach)\n",
      "(Biden, emphasized, bringing people together)\n",
      "(Biden, emphasized, finding common ground)\n",
      "(Biden, restored, normalcy to White House)\n",
      "(Biden, restored, professionalism to White House)\n"
     ]
    }
   ],
   "source": [
    "kgi = KnowledgeGraphIndex.from_documents(\n",
    "    documents, \n",
    "    max_triplets_per_chunk=50,\n",
    "    prompt_template=prompt_template)"
   ]
  },
  {
   "cell_type": "markdown",
   "metadata": {},
   "source": [
    "# Knowledge graph inspection\n",
    "Now we can inspect the underlying knowledge graph constructed by the LLM.a"
   ]
  },
  {
   "cell_type": "code",
   "execution_count": 20,
   "metadata": {},
   "outputs": [
    {
     "data": {
      "text/plain": [
       "[['emphasized', 'international cooperation'],\n",
       " ['rebuilding', 'relationships with allies'],\n",
       " ['rejoined', 'Paris Climate Agreement'],\n",
       " ['rejoined', 'World Health Organization'],\n",
       " ['repairing', 'relationships with Mexico and Canada'],\n",
       " ['taking', 'diplomatic approach with Iran and North Korea'],\n",
       " ['pursued', 'liberal agenda'],\n",
       " ['focusing on', 'racial justice'],\n",
       " ['focusing on', 'healthcare'],\n",
       " ['focusing on', 'climate change'],\n",
       " ['signed', 'executive orders on voting rights'],\n",
       " ['signed', 'executive orders on gun control'],\n",
       " ['signed', 'executive orders on climate change'],\n",
       " ['proposed', 'legislation on healthcare'],\n",
       " ['proposed', 'legislation on infrastructure'],\n",
       " ['proposed', 'legislation on immigration reform'],\n",
       " ['emphasized', 'working with Congress'],\n",
       " ['emphasized', 'building consensus'],\n",
       " ['taken', 'conciliatory approach'],\n",
       " ['emphasized', 'bringing people together'],\n",
       " ['emphasized', 'finding common ground'],\n",
       " ['restored', 'normalcy to White House'],\n",
       " ['restored', 'professionalism to White House']]"
      ]
     },
     "execution_count": 20,
     "metadata": {},
     "output_type": "execute_result"
    }
   ],
   "source": [
    "graph = kgi.graph_store\n",
    "graph.get(\"Biden\")"
   ]
  },
  {
   "cell_type": "code",
   "execution_count": 21,
   "metadata": {},
   "outputs": [
    {
     "data": {
      "text/plain": [
       "[['known for', 'America First approach'],\n",
       " ['pulling back from', 'international agreements'],\n",
       " ['prioritizing', 'interests of United States'],\n",
       " ['had', 'tumultuous relationship with world leaders'],\n",
       " ['pursued', 'conservative agenda'],\n",
       " ['attempted to repeal', 'Affordable Care Act'],\n",
       " ['rolled back', 'environmental regulations'],\n",
       " ['cut taxes', 'for businesses and wealthy'],\n",
       " ['implemented', 'hardline immigration policies'],\n",
       " ['implemented', 'zero tolerance policy at border'],\n",
       " ['implemented', 'travel ban targeting Muslim countries'],\n",
       " ['known for', 'bold approach'],\n",
       " ['known for', 'combative approach'],\n",
       " ['used', 'Twitter to attack opponents'],\n",
       " ['faced', 'accusations of corruption'],\n",
       " ['faced', 'accusations of abuse of power'],\n",
       " ['faced', 'impeachment trial']]"
      ]
     },
     "execution_count": 21,
     "metadata": {},
     "output_type": "execute_result"
    }
   ],
   "source": [
    "graph.get(\"Trump\")"
   ]
  },
  {
   "cell_type": "code",
   "execution_count": 24,
   "metadata": {},
   "outputs": [
    {
     "name": "stdout",
     "output_type": "stream",
     "text": [
      "Number of connected components: 4\n"
     ]
    },
    {
     "data": {
      "text/plain": [
       "Text(0.5, 1.0, 'Distribution of node degrees')"
      ]
     },
     "execution_count": 24,
     "metadata": {},
     "output_type": "execute_result"
    },
    {
     "data": {
      "image/png": "[encoded data removed]",
      "text/plain": [
       "<Figure size 640x480 with 1 Axes>"
      ]
     },
     "metadata": {},
     "output_type": "display_data"
    }
   ],
   "source": [
    "# Get the number of connected components\n",
    "print(f\"Number of connected components: {nx.number_connected_components(nx_graph)}\")\n",
    "\n",
    "# Get the distribution of node degrees\n",
    "plt.hist(nx.degree_histogram(nx_graph), bins=25);\n",
    "plt.title(\"Distribution of node degrees\")\n"
   ]
  },
  {
   "cell_type": "code",
   "execution_count": 26,
   "metadata": {},
   "outputs": [
    {
     "name": "stdout",
     "output_type": "stream",
     "text": [
      "Warning: When  cdn_resources is 'local' jupyter notebook has issues displaying graphics on chrome/safari. Use cdn_resources='in_line' or cdn_resources='remote' if you have issues viewing graphics in a notebook.\n",
      "LLM_graph.html\n"
     ]
    },
    {
     "data": {
      "text/html": [
       "<html>\n",
       "    <head>\n",
       "        <meta charset=\"utf-8\">\n",
       "        \n",
       "            <script src=\"lib/bindings/utils.js\"></script>\n",
       "            <link rel=\"stylesheet\" href=\"https://cdnjs.cloudflare.com/ajax/libs/vis-network/9.1.2/dist/dist/vis-network.min.css\" integrity=\"sha512-WgxfT5LWjfszlPHXRmBWHkV2eceiWTOBvrKCNbdgDYTHrT2AeLCGbF4sZlZw3UMN3WtL0tGUoIAKsu8mllg/XA==\" crossorigin=\"anonymous\" referrerpolicy=\"no-referrer\" />\n",
       "            <script src=\"https://cdnjs.cloudflare.com/ajax/libs/vis-network/9.1.2/dist/vis-network.min.js\" integrity=\"sha512-LnvoEWDFrqGHlHmDD2101OrLcbsfkrzoSpvtSQtxK3RMnRV0eOkhhBN2dXHKRrUU8p2DGRTk35n4O8nWSVe1mQ==\" crossorigin=\"anonymous\" referrerpolicy=\"no-referrer\"></script>\n",
       "            \n",
       "                <link href=\"lib/tom-select/tom-select.css\" rel=\"stylesheet\">\n",
       "                <script src=\"lib/tom-select/tom-select.complete.min.js\"></script>\n",
       "            \n",
       "        \n",
       "<center>\n",
       "<h1></h1>\n",
       "</center>\n",
       "\n",
       "<!-- <link rel=\"stylesheet\" href=\"../node_modules/vis/dist/vis.min.css\" type=\"text/css\" />\n",
       "<script type=\"text/javascript\" src=\"../node_modules/vis/dist/vis.js\"> </script>-->\n",
       "        <link\n",
       "          href=\"https://cdn.jsdelivr.net/npm/bootstrap@5.0.0-beta3/dist/css/bootstrap.min.css\"\n",
       "          rel=\"stylesheet\"\n",
       "          integrity=\"sha384-eOJMYsd53ii+scO/bJGFsiCZc+5NDVN2yr8+0RDqr0Ql0h+rP48ckxlpbzKgwra6\"\n",
       "          crossorigin=\"anonymous\"\n",
       "        />\n",
       "        <script\n",
       "          src=\"https://cdn.jsdelivr.net/npm/bootstrap@5.0.0-beta3/dist/js/bootstrap.bundle.min.js\"\n",
       "          integrity=\"sha384-JEW9xMcG8R+pH31jmWH6WWP0WintQrMb4s7ZOdauHnUtxwoG2vI5DkLtS3qm9Ekf\"\n",
       "          crossorigin=\"anonymous\"\n",
       "        ></script>\n",
       "\n",
       "\n",
       "        <center>\n",
       "          <h1></h1>\n",
       "        </center>\n",
       "        <style type=\"text/css\">\n",
       "\n",
       "             #mynetwork {\n",
       "                 width: 1000px;\n",
       "                 height: 1000px;\n",
       "                 background-color: #ffffff;\n",
       "                 border: 1px solid lightgray;\n",
       "                 position: relative;\n",
       "                 float: left;\n",
       "             }\n",
       "\n",
       "             \n",
       "\n",
       "             \n",
       "\n",
       "             \n",
       "        </style>\n",
       "    </head>\n",
       "\n",
       "\n",
       "    <body>\n",
       "        <div class=\"card\" style=\"width: 100%\">\n",
       "            \n",
       "                <div id=\"select-menu\" class=\"card-header\">\n",
       "                    <div class=\"row no-gutters\">\n",
       "                        <div class=\"col-10 pb-2\">\n",
       "                            <select\n",
       "                            class=\"form-select\"\n",
       "                            aria-label=\"Default select example\"\n",
       "                            onchange=\"selectNode([value]);\"\n",
       "                            id=\"select-node\"\n",
       "                            placeholder=\"Select node...\"\n",
       "                            >\n",
       "                                <option selected>Select a Node by ID</option>\n",
       "                                \n",
       "                                    <option value=\"US Presidents\">US Presidents</option>\n",
       "                                \n",
       "                                    <option value=\"different approaches\">different approaches</option>\n",
       "                                \n",
       "                                    <option value=\"Donald Trump\">Donald Trump</option>\n",
       "                                \n",
       "                                    <option value=\"conservative stance\">conservative stance</option>\n",
       "                                \n",
       "                                    <option value=\"divisive stance\">divisive stance</option>\n",
       "                                \n",
       "                                    <option value=\"Joe Biden\">Joe Biden</option>\n",
       "                                \n",
       "                                    <option value=\"importance of international cooperation\">importance of international cooperation</option>\n",
       "                                \n",
       "                                    <option value=\"normalcy to White House\">normalcy to White House</option>\n",
       "                                \n",
       "                                    <option value=\"more traditional policies\">more traditional policies</option>\n",
       "                                \n",
       "                                    <option value=\"centrist policies\">centrist policies</option>\n",
       "                                \n",
       "                                    <option value=\"Biden\">Biden</option>\n",
       "                                \n",
       "                                    <option value=\"Trump\">Trump</option>\n",
       "                                \n",
       "                                    <option value=\"America First approach\">America First approach</option>\n",
       "                                \n",
       "                                    <option value=\"international agreements\">international agreements</option>\n",
       "                                \n",
       "                                    <option value=\"interests of United States\">interests of United States</option>\n",
       "                                \n",
       "                                    <option value=\"tumultuous relationship with world leaders\">tumultuous relationship with world leaders</option>\n",
       "                                \n",
       "                                    <option value=\"conservative agenda\">conservative agenda</option>\n",
       "                                \n",
       "                                    <option value=\"Affordable Care Act\">Affordable Care Act</option>\n",
       "                                \n",
       "                                    <option value=\"environmental regulations\">environmental regulations</option>\n",
       "                                \n",
       "                                    <option value=\"for businesses and wealthy\">for businesses and wealthy</option>\n",
       "                                \n",
       "                                    <option value=\"hardline immigration policies\">hardline immigration policies</option>\n",
       "                                \n",
       "                                    <option value=\"zero tolerance policy at border\">zero tolerance policy at border</option>\n",
       "                                \n",
       "                                    <option value=\"travel ban targeting Muslim countries\">travel ban targeting Muslim countries</option>\n",
       "                                \n",
       "                                    <option value=\"bold approach\">bold approach</option>\n",
       "                                \n",
       "                                    <option value=\"combative approach\">combative approach</option>\n",
       "                                \n",
       "                                    <option value=\"Twitter to attack opponents\">Twitter to attack opponents</option>\n",
       "                                \n",
       "                                    <option value=\"accusations of corruption\">accusations of corruption</option>\n",
       "                                \n",
       "                                    <option value=\"accusations of abuse of power\">accusations of abuse of power</option>\n",
       "                                \n",
       "                                    <option value=\"impeachment trial\">impeachment trial</option>\n",
       "                                \n",
       "                                    <option value=\"international cooperation\">international cooperation</option>\n",
       "                                \n",
       "                                    <option value=\"relationships with allies\">relationships with allies</option>\n",
       "                                \n",
       "                                    <option value=\"Paris Climate Agreement\">Paris Climate Agreement</option>\n",
       "                                \n",
       "                                    <option value=\"World Health Organization\">World Health Organization</option>\n",
       "                                \n",
       "                                    <option value=\"relationships with Mexico and Canada\">relationships with Mexico and Canada</option>\n",
       "                                \n",
       "                                    <option value=\"diplomatic approach with Iran and North Korea\">diplomatic approach with Iran and North Korea</option>\n",
       "                                \n",
       "                                    <option value=\"liberal agenda\">liberal agenda</option>\n",
       "                                \n",
       "                                    <option value=\"racial justice\">racial justice</option>\n",
       "                                \n",
       "                                    <option value=\"healthcare\">healthcare</option>\n",
       "                                \n",
       "                                    <option value=\"climate change\">climate change</option>\n",
       "                                \n",
       "                                    <option value=\"executive orders on voting rights\">executive orders on voting rights</option>\n",
       "                                \n",
       "                                    <option value=\"executive orders on gun control\">executive orders on gun control</option>\n",
       "                                \n",
       "                                    <option value=\"executive orders on climate change\">executive orders on climate change</option>\n",
       "                                \n",
       "                                    <option value=\"legislation on healthcare\">legislation on healthcare</option>\n",
       "                                \n",
       "                                    <option value=\"legislation on infrastructure\">legislation on infrastructure</option>\n",
       "                                \n",
       "                                    <option value=\"legislation on immigration reform\">legislation on immigration reform</option>\n",
       "                                \n",
       "                                    <option value=\"working with Congress\">working with Congress</option>\n",
       "                                \n",
       "                                    <option value=\"building consensus\">building consensus</option>\n",
       "                                \n",
       "                                    <option value=\"conciliatory approach\">conciliatory approach</option>\n",
       "                                \n",
       "                                    <option value=\"bringing people together\">bringing people together</option>\n",
       "                                \n",
       "                                    <option value=\"finding common ground\">finding common ground</option>\n",
       "                                \n",
       "                                    <option value=\"professionalism to White House\">professionalism to White House</option>\n",
       "                                \n",
       "                            </select>\n",
       "                        </div>\n",
       "                        <div class=\"col-2 pb-2\">\n",
       "                            <button type=\"button\" class=\"btn btn-primary btn-block\" onclick=\"neighbourhoodHighlight({nodes: []});\">Reset Selection</button>\n",
       "                        </div>\n",
       "                    </div>\n",
       "                </div>\n",
       "            \n",
       "            \n",
       "              <div id=\"filter-menu\" class=\"card-header\">\n",
       "                <div class=\"row no-gutters\">\n",
       "                  <div class=\"col-3 pb-2\">\n",
       "                    <select\n",
       "                            class=\"form-select\"\n",
       "                            aria-label=\"Default select example\"\n",
       "                            onchange=\"updateFilter(value, 'item')\"\n",
       "                            id=\"select-item\"\n",
       "                        >\n",
       "                        <option value=\"\">Select a network item</option>\n",
       "                        <option value=\"edge\">edge</option>\n",
       "                        <option value=\"node\">node</option>\n",
       "                    </select>\n",
       "                  </div>\n",
       "                  <div class=\"col-3 pb-2\">\n",
       "                    <select\n",
       "                            class=\"form-select\"\n",
       "                            aria-label=\"Default select example\"\n",
       "                            onchange=\"updateFilter(value, 'property')\"\n",
       "                            id=\"select-property\"\n",
       "                        >\n",
       "                        <option value=\"\">Select a property...</option>\n",
       "                    </select>\n",
       "                  </div>\n",
       "                  <div class=\"col-3 pb-2\">\n",
       "                    <select\n",
       "                            class=\"form-select\"\n",
       "                            aria-label=\"Default select example\"\n",
       "                            id=\"select-value\"\n",
       "                        >\n",
       "                        <option value=\"\">Select value(s)...</option>\n",
       "                    </select>\n",
       "                  </div>\n",
       "                  <div class=\"col-1 pb-2\">\n",
       "                    <button type=\"button\" class=\"btn btn-primary btn-block\" onclick=\"highlightFilter(filter);\">Filter</button>\n",
       "                  </div>\n",
       "                  <div class=\"col-2 pb-2\">\n",
       "                    <button type=\"button\" class=\"btn btn-primary btn-block\" onclick=\"clearFilter(true)\">Reset Selection</button>\n",
       "                  </div>\n",
       "                </div>\n",
       "              </div>\n",
       "            \n",
       "            <div id=\"mynetwork\" class=\"card-body\"></div>\n",
       "        </div>\n",
       "\n",
       "        \n",
       "        \n",
       "\n",
       "        <script type=\"text/javascript\">\n",
       "\n",
       "              // initialize global variables.\n",
       "              var edges;\n",
       "              var nodes;\n",
       "              var allNodes;\n",
       "              var allEdges;\n",
       "              var nodeColors;\n",
       "              var originalNodes;\n",
       "              var network;\n",
       "              var container;\n",
       "              var options, data;\n",
       "              var filter = {\n",
       "                  item : '',\n",
       "                  property : '',\n",
       "                  value : []\n",
       "              };\n",
       "\n",
       "              \n",
       "                  new TomSelect(\"#select-node\",{\n",
       "                      create: false,\n",
       "                      sortField: {\n",
       "                          field: \"text\",\n",
       "                          direction: \"asc\"\n",
       "                      }\n",
       "                  });\n",
       "              \n",
       "\n",
       "              \n",
       "                  // explicitly using onItemAdd and this function as we need to save multiple values\n",
       "                  let updateValueFilter = function() {\n",
       "                      return function () {\n",
       "                      filter['value'].push(arguments[0])\n",
       "                      }\n",
       "                  }\n",
       "\n",
       "                  let valueControl = new TomSelect(\"#select-value\",{\n",
       "                      maxItems: null,\n",
       "                      valueField: 'id',\n",
       "                      labelField: 'title',\n",
       "                      searchField: 'title',\n",
       "                      create: false,\n",
       "                      sortField: {\n",
       "                          field: \"text\",\n",
       "                          direction: \"asc\"\n",
       "                      },\n",
       "                      onItemAdd: updateValueFilter()\n",
       "                  });\n",
       "\n",
       "                  let addValues = function() {\n",
       "                      return function () {\n",
       "                          // clear the current value options and add the selected attribute values\n",
       "                          // tom-select handles duplicates\n",
       "                          let selectedProperty = arguments[0];\n",
       "                          valueControl.clear();\n",
       "                          valueControl.clearOptions();\n",
       "                          filter['value'] = []\n",
       "                          if (filter['item'] === 'node') {\n",
       "                              for (let each in allNodes) {\n",
       "                                  valueControl.addOption({\n",
       "                                      id:allNodes[each][selectedProperty],\n",
       "                                      title:allNodes[each][selectedProperty]\n",
       "                                  })\n",
       "                              }\n",
       "                          }\n",
       "                          else if (filter['item'] === 'edge') {\n",
       "                              for (let each in allEdges) {\n",
       "                                  valueControl.addOption({\n",
       "                                      id:allEdges[each][selectedProperty],\n",
       "                                      title:allEdges[each][selectedProperty]\n",
       "                                  })\n",
       "                              }\n",
       "                          }\n",
       "                      }\n",
       "                  };\n",
       "\n",
       "                  let propControl = new TomSelect(\"#select-property\",{\n",
       "                      valueField: 'id',\n",
       "                      labelField: 'title',\n",
       "                      searchField: 'title',\n",
       "                      create: false,\n",
       "                      sortField: {\n",
       "                          field: \"text\",\n",
       "                          direction: \"asc\"\n",
       "                      },\n",
       "                      onItemAdd: addValues()\n",
       "                  });\n",
       "\n",
       "                  let addProperties = function() {\n",
       "                      return function () {\n",
       "                          // loops through the selected network item and adds the attributes to dropdown\n",
       "                          // tom-select handles duplicates\n",
       "                          clearFilter(false)\n",
       "                          if (arguments[0] === 'edge') {\n",
       "                              for (let each in allEdges) {\n",
       "                                  if (allEdges.hasOwnProperty(each)) {\n",
       "                                      for (let eachProp in allEdges[each]) {\n",
       "                                          if (allEdges[each].hasOwnProperty(eachProp)) {\n",
       "                                              propControl.addOption({id: eachProp, title: eachProp})\n",
       "                                          }\n",
       "                                      }\n",
       "                                  }\n",
       "                              }\n",
       "                          }\n",
       "                          else if (arguments[0] === 'node') {\n",
       "                              for (let each in allNodes) {\n",
       "                                  if (allNodes.hasOwnProperty(each)) {\n",
       "                                      for (let eachProp in allNodes[each]) {\n",
       "                                          if (allNodes[each].hasOwnProperty(eachProp)\n",
       "                                              && (eachProp !== 'hidden' && eachProp !== 'savedLabel'\n",
       "                                                  && eachProp !== 'hiddenLabel')) {\n",
       "                                              propControl.addOption({id: eachProp, title: eachProp})\n",
       "\n",
       "                                          }\n",
       "                                      }\n",
       "                                  }\n",
       "                              }\n",
       "                          }\n",
       "                      }\n",
       "                  };\n",
       "\n",
       "                  let itemControl = new TomSelect(\"#select-item\",{\n",
       "                      create: false,\n",
       "                      sortField:{\n",
       "                          field: \"text\",\n",
       "                          direction: \"asc\"\n",
       "                      },\n",
       "                      onItemAdd: addProperties()\n",
       "                  });\n",
       "\n",
       "                  function clearFilter(reset) {\n",
       "                      // utility function to clear all the selected filter options\n",
       "                      // if reset is set to true, the existing filter will be removed\n",
       "                      // else, only the dropdown options are cleared\n",
       "                      propControl.clear();\n",
       "                      propControl.clearOptions();\n",
       "                      valueControl.clear();\n",
       "                      valueControl.clearOptions();\n",
       "                      filter = {\n",
       "                          item : '',\n",
       "                          property : '',\n",
       "                          value : []\n",
       "                      }\n",
       "                      if (reset) {\n",
       "                          itemControl.clear();\n",
       "                          filterHighlight({nodes: []})\n",
       "                      }\n",
       "                  }\n",
       "\n",
       "                  function updateFilter(value, key) {\n",
       "                      // key could be 'item' or 'property' and value is as selected in dropdown\n",
       "                      filter[key] = value\n",
       "                  }\n",
       "\n",
       "              \n",
       "\n",
       "              // This method is responsible for drawing the graph, returns the drawn network\n",
       "              function drawGraph() {\n",
       "                  var container = document.getElementById('mynetwork');\n",
       "\n",
       "                  \n",
       "\n",
       "                  // parsing and collecting nodes and edges from the python\n",
       "                  nodes = new vis.DataSet([{\"color\": \"#97c2fc\", \"id\": \"US Presidents\", \"label\": \"US Presidents\", \"shape\": \"dot\", \"size\": 10}, {\"color\": \"#97c2fc\", \"id\": \"different approaches\", \"label\": \"different approaches\", \"shape\": \"dot\", \"size\": 10}, {\"color\": \"#97c2fc\", \"id\": \"Donald Trump\", \"label\": \"Donald Trump\", \"shape\": \"dot\", \"size\": 10}, {\"color\": \"#97c2fc\", \"id\": \"conservative stance\", \"label\": \"conservative stance\", \"shape\": \"dot\", \"size\": 10}, {\"color\": \"#97c2fc\", \"id\": \"divisive stance\", \"label\": \"divisive stance\", \"shape\": \"dot\", \"size\": 10}, {\"color\": \"#97c2fc\", \"id\": \"Joe Biden\", \"label\": \"Joe Biden\", \"shape\": \"dot\", \"size\": 10}, {\"color\": \"#97c2fc\", \"id\": \"importance of international cooperation\", \"label\": \"importance of international cooperation\", \"shape\": \"dot\", \"size\": 10}, {\"color\": \"#97c2fc\", \"id\": \"normalcy to White House\", \"label\": \"normalcy to White House\", \"shape\": \"dot\", \"size\": 10}, {\"color\": \"#97c2fc\", \"id\": \"more traditional policies\", \"label\": \"more traditional policies\", \"shape\": \"dot\", \"size\": 10}, {\"color\": \"#97c2fc\", \"id\": \"centrist policies\", \"label\": \"centrist policies\", \"shape\": \"dot\", \"size\": 10}, {\"color\": \"#97c2fc\", \"id\": \"Biden\", \"label\": \"Biden\", \"shape\": \"dot\", \"size\": 10}, {\"color\": \"#97c2fc\", \"id\": \"Trump\", \"label\": \"Trump\", \"shape\": \"dot\", \"size\": 10}, {\"color\": \"#97c2fc\", \"id\": \"America First approach\", \"label\": \"America First approach\", \"shape\": \"dot\", \"size\": 10}, {\"color\": \"#97c2fc\", \"id\": \"international agreements\", \"label\": \"international agreements\", \"shape\": \"dot\", \"size\": 10}, {\"color\": \"#97c2fc\", \"id\": \"interests of United States\", \"label\": \"interests of United States\", \"shape\": \"dot\", \"size\": 10}, {\"color\": \"#97c2fc\", \"id\": \"tumultuous relationship with world leaders\", \"label\": \"tumultuous relationship with world leaders\", \"shape\": \"dot\", \"size\": 10}, {\"color\": \"#97c2fc\", \"id\": \"conservative agenda\", \"label\": \"conservative agenda\", \"shape\": \"dot\", \"size\": 10}, {\"color\": \"#97c2fc\", \"id\": \"Affordable Care Act\", \"label\": \"Affordable Care Act\", \"shape\": \"dot\", \"size\": 10}, {\"color\": \"#97c2fc\", \"id\": \"environmental regulations\", \"label\": \"environmental regulations\", \"shape\": \"dot\", \"size\": 10}, {\"color\": \"#97c2fc\", \"id\": \"for businesses and wealthy\", \"label\": \"for businesses and wealthy\", \"shape\": \"dot\", \"size\": 10}, {\"color\": \"#97c2fc\", \"id\": \"hardline immigration policies\", \"label\": \"hardline immigration policies\", \"shape\": \"dot\", \"size\": 10}, {\"color\": \"#97c2fc\", \"id\": \"zero tolerance policy at border\", \"label\": \"zero tolerance policy at border\", \"shape\": \"dot\", \"size\": 10}, {\"color\": \"#97c2fc\", \"id\": \"travel ban targeting Muslim countries\", \"label\": \"travel ban targeting Muslim countries\", \"shape\": \"dot\", \"size\": 10}, {\"color\": \"#97c2fc\", \"id\": \"bold approach\", \"label\": \"bold approach\", \"shape\": \"dot\", \"size\": 10}, {\"color\": \"#97c2fc\", \"id\": \"combative approach\", \"label\": \"combative approach\", \"shape\": \"dot\", \"size\": 10}, {\"color\": \"#97c2fc\", \"id\": \"Twitter to attack opponents\", \"label\": \"Twitter to attack opponents\", \"shape\": \"dot\", \"size\": 10}, {\"color\": \"#97c2fc\", \"id\": \"accusations of corruption\", \"label\": \"accusations of corruption\", \"shape\": \"dot\", \"size\": 10}, {\"color\": \"#97c2fc\", \"id\": \"accusations of abuse of power\", \"label\": \"accusations of abuse of power\", \"shape\": \"dot\", \"size\": 10}, {\"color\": \"#97c2fc\", \"id\": \"impeachment trial\", \"label\": \"impeachment trial\", \"shape\": \"dot\", \"size\": 10}, {\"color\": \"#97c2fc\", \"id\": \"international cooperation\", \"label\": \"international cooperation\", \"shape\": \"dot\", \"size\": 10}, {\"color\": \"#97c2fc\", \"id\": \"relationships with allies\", \"label\": \"relationships with allies\", \"shape\": \"dot\", \"size\": 10}, {\"color\": \"#97c2fc\", \"id\": \"Paris Climate Agreement\", \"label\": \"Paris Climate Agreement\", \"shape\": \"dot\", \"size\": 10}, {\"color\": \"#97c2fc\", \"id\": \"World Health Organization\", \"label\": \"World Health Organization\", \"shape\": \"dot\", \"size\": 10}, {\"color\": \"#97c2fc\", \"id\": \"relationships with Mexico and Canada\", \"label\": \"relationships with Mexico and Canada\", \"shape\": \"dot\", \"size\": 10}, {\"color\": \"#97c2fc\", \"id\": \"diplomatic approach with Iran and North Korea\", \"label\": \"diplomatic approach with Iran and North Korea\", \"shape\": \"dot\", \"size\": 10}, {\"color\": \"#97c2fc\", \"id\": \"liberal agenda\", \"label\": \"liberal agenda\", \"shape\": \"dot\", \"size\": 10}, {\"color\": \"#97c2fc\", \"id\": \"racial justice\", \"label\": \"racial justice\", \"shape\": \"dot\", \"size\": 10}, {\"color\": \"#97c2fc\", \"id\": \"healthcare\", \"label\": \"healthcare\", \"shape\": \"dot\", \"size\": 10}, {\"color\": \"#97c2fc\", \"id\": \"climate change\", \"label\": \"climate change\", \"shape\": \"dot\", \"size\": 10}, {\"color\": \"#97c2fc\", \"id\": \"executive orders on voting rights\", \"label\": \"executive orders on voting rights\", \"shape\": \"dot\", \"size\": 10}, {\"color\": \"#97c2fc\", \"id\": \"executive orders on gun control\", \"label\": \"executive orders on gun control\", \"shape\": \"dot\", \"size\": 10}, {\"color\": \"#97c2fc\", \"id\": \"executive orders on climate change\", \"label\": \"executive orders on climate change\", \"shape\": \"dot\", \"size\": 10}, {\"color\": \"#97c2fc\", \"id\": \"legislation on healthcare\", \"label\": \"legislation on healthcare\", \"shape\": \"dot\", \"size\": 10}, {\"color\": \"#97c2fc\", \"id\": \"legislation on infrastructure\", \"label\": \"legislation on infrastructure\", \"shape\": \"dot\", \"size\": 10}, {\"color\": \"#97c2fc\", \"id\": \"legislation on immigration reform\", \"label\": \"legislation on immigration reform\", \"shape\": \"dot\", \"size\": 10}, {\"color\": \"#97c2fc\", \"id\": \"working with Congress\", \"label\": \"working with Congress\", \"shape\": \"dot\", \"size\": 10}, {\"color\": \"#97c2fc\", \"id\": \"building consensus\", \"label\": \"building consensus\", \"shape\": \"dot\", \"size\": 10}, {\"color\": \"#97c2fc\", \"id\": \"conciliatory approach\", \"label\": \"conciliatory approach\", \"shape\": \"dot\", \"size\": 10}, {\"color\": \"#97c2fc\", \"id\": \"bringing people together\", \"label\": \"bringing people together\", \"shape\": \"dot\", \"size\": 10}, {\"color\": \"#97c2fc\", \"id\": \"finding common ground\", \"label\": \"finding common ground\", \"shape\": \"dot\", \"size\": 10}, {\"color\": \"#97c2fc\", \"id\": \"professionalism to White House\", \"label\": \"professionalism to White House\", \"shape\": \"dot\", \"size\": 10}]);\n",
       "                  edges = new vis.DataSet([{\"from\": \"US Presidents\", \"label\": \"have had\", \"title\": \"have had\", \"to\": \"different approaches\", \"width\": 1}, {\"from\": \"Donald Trump\", \"label\": \"taking\", \"title\": \"taking\", \"to\": \"conservative stance\", \"width\": 1}, {\"from\": \"Donald Trump\", \"label\": \"taking\", \"title\": \"taking\", \"to\": \"divisive stance\", \"width\": 1}, {\"from\": \"Joe Biden\", \"label\": \"emphasizing\", \"title\": \"emphasizing\", \"to\": \"importance of international cooperation\", \"width\": 1}, {\"from\": \"Joe Biden\", \"label\": \"restoring\", \"title\": \"restoring\", \"to\": \"normalcy to White House\", \"width\": 1}, {\"from\": \"Joe Biden\", \"label\": \"has\", \"title\": \"has\", \"to\": \"more traditional policies\", \"width\": 1}, {\"from\": \"Joe Biden\", \"label\": \"has\", \"title\": \"has\", \"to\": \"centrist policies\", \"width\": 1}, {\"from\": \"normalcy to White House\", \"label\": \"restored\", \"title\": \"restored\", \"to\": \"Biden\", \"width\": 1}, {\"from\": \"Trump\", \"label\": \"known for\", \"title\": \"known for\", \"to\": \"America First approach\", \"width\": 1}, {\"from\": \"Trump\", \"label\": \"pulling back from\", \"title\": \"pulling back from\", \"to\": \"international agreements\", \"width\": 1}, {\"from\": \"Trump\", \"label\": \"prioritizing\", \"title\": \"prioritizing\", \"to\": \"interests of United States\", \"width\": 1}, {\"from\": \"Trump\", \"label\": \"had\", \"title\": \"had\", \"to\": \"tumultuous relationship with world leaders\", \"width\": 1}, {\"from\": \"Trump\", \"label\": \"pursued\", \"title\": \"pursued\", \"to\": \"conservative agenda\", \"width\": 1}, {\"from\": \"Trump\", \"label\": \"attempted to repeal\", \"title\": \"attempted to repeal\", \"to\": \"Affordable Care Act\", \"width\": 1}, {\"from\": \"Trump\", \"label\": \"rolled back\", \"title\": \"rolled back\", \"to\": \"environmental regulations\", \"width\": 1}, {\"from\": \"Trump\", \"label\": \"cut taxes\", \"title\": \"cut taxes\", \"to\": \"for businesses and wealthy\", \"width\": 1}, {\"from\": \"Trump\", \"label\": \"implemented\", \"title\": \"implemented\", \"to\": \"hardline immigration policies\", \"width\": 1}, {\"from\": \"Trump\", \"label\": \"implemented\", \"title\": \"implemented\", \"to\": \"zero tolerance policy at border\", \"width\": 1}, {\"from\": \"Trump\", \"label\": \"implemented\", \"title\": \"implemented\", \"to\": \"travel ban targeting Muslim countries\", \"width\": 1}, {\"from\": \"Trump\", \"label\": \"known for\", \"title\": \"known for\", \"to\": \"bold approach\", \"width\": 1}, {\"from\": \"Trump\", \"label\": \"known for\", \"title\": \"known for\", \"to\": \"combative approach\", \"width\": 1}, {\"from\": \"Trump\", \"label\": \"used\", \"title\": \"used\", \"to\": \"Twitter to attack opponents\", \"width\": 1}, {\"from\": \"Trump\", \"label\": \"faced\", \"title\": \"faced\", \"to\": \"accusations of corruption\", \"width\": 1}, {\"from\": \"Trump\", \"label\": \"faced\", \"title\": \"faced\", \"to\": \"accusations of abuse of power\", \"width\": 1}, {\"from\": \"Trump\", \"label\": \"faced\", \"title\": \"faced\", \"to\": \"impeachment trial\", \"width\": 1}, {\"from\": \"Biden\", \"label\": \"emphasized\", \"title\": \"emphasized\", \"to\": \"international cooperation\", \"width\": 1}, {\"from\": \"Biden\", \"label\": \"rebuilding\", \"title\": \"rebuilding\", \"to\": \"relationships with allies\", \"width\": 1}, {\"from\": \"Biden\", \"label\": \"rejoined\", \"title\": \"rejoined\", \"to\": \"Paris Climate Agreement\", \"width\": 1}, {\"from\": \"Biden\", \"label\": \"rejoined\", \"title\": \"rejoined\", \"to\": \"World Health Organization\", \"width\": 1}, {\"from\": \"Biden\", \"label\": \"repairing\", \"title\": \"repairing\", \"to\": \"relationships with Mexico and Canada\", \"width\": 1}, {\"from\": \"Biden\", \"label\": \"taking\", \"title\": \"taking\", \"to\": \"diplomatic approach with Iran and North Korea\", \"width\": 1}, {\"from\": \"Biden\", \"label\": \"pursued\", \"title\": \"pursued\", \"to\": \"liberal agenda\", \"width\": 1}, {\"from\": \"Biden\", \"label\": \"focusing on\", \"title\": \"focusing on\", \"to\": \"racial justice\", \"width\": 1}, {\"from\": \"Biden\", \"label\": \"focusing on\", \"title\": \"focusing on\", \"to\": \"healthcare\", \"width\": 1}, {\"from\": \"Biden\", \"label\": \"focusing on\", \"title\": \"focusing on\", \"to\": \"climate change\", \"width\": 1}, {\"from\": \"Biden\", \"label\": \"signed\", \"title\": \"signed\", \"to\": \"executive orders on voting rights\", \"width\": 1}, {\"from\": \"Biden\", \"label\": \"signed\", \"title\": \"signed\", \"to\": \"executive orders on gun control\", \"width\": 1}, {\"from\": \"Biden\", \"label\": \"signed\", \"title\": \"signed\", \"to\": \"executive orders on climate change\", \"width\": 1}, {\"from\": \"Biden\", \"label\": \"proposed\", \"title\": \"proposed\", \"to\": \"legislation on healthcare\", \"width\": 1}, {\"from\": \"Biden\", \"label\": \"proposed\", \"title\": \"proposed\", \"to\": \"legislation on infrastructure\", \"width\": 1}, {\"from\": \"Biden\", \"label\": \"proposed\", \"title\": \"proposed\", \"to\": \"legislation on immigration reform\", \"width\": 1}, {\"from\": \"Biden\", \"label\": \"emphasized\", \"title\": \"emphasized\", \"to\": \"working with Congress\", \"width\": 1}, {\"from\": \"Biden\", \"label\": \"emphasized\", \"title\": \"emphasized\", \"to\": \"building consensus\", \"width\": 1}, {\"from\": \"Biden\", \"label\": \"taken\", \"title\": \"taken\", \"to\": \"conciliatory approach\", \"width\": 1}, {\"from\": \"Biden\", \"label\": \"emphasized\", \"title\": \"emphasized\", \"to\": \"bringing people together\", \"width\": 1}, {\"from\": \"Biden\", \"label\": \"emphasized\", \"title\": \"emphasized\", \"to\": \"finding common ground\", \"width\": 1}, {\"from\": \"Biden\", \"label\": \"restored\", \"title\": \"restored\", \"to\": \"professionalism to White House\", \"width\": 1}]);\n",
       "\n",
       "                  nodeColors = {};\n",
       "                  allNodes = nodes.get({ returnType: \"Object\" });\n",
       "                  for (nodeId in allNodes) {\n",
       "                    nodeColors[nodeId] = allNodes[nodeId].color;\n",
       "                  }\n",
       "                  allEdges = edges.get({ returnType: \"Object\" });\n",
       "                  // adding nodes and edges to the graph\n",
       "                  data = {nodes: nodes, edges: edges};\n",
       "\n",
       "                  var options = {\n",
       "    \"configure\": {\n",
       "        \"enabled\": false\n",
       "    },\n",
       "    \"edges\": {\n",
       "        \"color\": {\n",
       "            \"inherit\": true\n",
       "        },\n",
       "        \"smooth\": {\n",
       "            \"enabled\": true,\n",
       "            \"type\": \"dynamic\"\n",
       "        }\n",
       "    },\n",
       "    \"interaction\": {\n",
       "        \"dragNodes\": true,\n",
       "        \"hideEdgesOnDrag\": false,\n",
       "        \"hideNodesOnDrag\": false\n",
       "    },\n",
       "    \"physics\": {\n",
       "        \"enabled\": true,\n",
       "        \"stabilization\": {\n",
       "            \"enabled\": true,\n",
       "            \"fit\": true,\n",
       "            \"iterations\": 1000,\n",
       "            \"onlyDynamicEdges\": false,\n",
       "            \"updateInterval\": 50\n",
       "        }\n",
       "    }\n",
       "};\n",
       "\n",
       "                  \n",
       "\n",
       "\n",
       "                  \n",
       "\n",
       "                  network = new vis.Network(container, data, options);\n",
       "\n",
       "                  \n",
       "\n",
       "                  \n",
       "                    network.on(\"selectNode\", neighbourhoodHighlight);\n",
       "                  \n",
       "\n",
       "                  \n",
       "\n",
       "\n",
       "                  \n",
       "\n",
       "                  return network;\n",
       "\n",
       "              }\n",
       "              drawGraph();\n",
       "        </script>\n",
       "    </body>\n",
       "</html>"
      ],
      "text/plain": [
       "<IPython.core.display.HTML object>"
      ]
     },
     "execution_count": 26,
     "metadata": {},
     "output_type": "execute_result"
    }
   ],
   "source": [
    "net = pv.network.Network('1000px', '1000px', \n",
    "                         notebook=True, \n",
    "                         select_menu=True,\n",
    "                        filter_menu=True)\n",
    "net.from_nx(kgi.get_networkx_graph())\n",
    "net.show(\"LLM_graph.html\")\n",
    "\n",
    "HTML(filename=\"LLM_graph.html\")"
   ]
  },
  {
   "cell_type": "markdown",
   "metadata": {},
   "source": [
    "# Knowledge graph querying"
   ]
  },
  {
   "cell_type": "markdown",
   "metadata": {},
   "source": [
    "We can also qeury the knowledge graph to extract some information. \n"
   ]
  },
  {
   "cell_type": "markdown",
   "metadata": {},
   "source": [
    "## Getting reponses based on raw triplets\n",
    "\n",
    "We can query the knowledge base to get responses based **ONLY** on the raw triplets. LLM will compose them together to produce the answer."
   ]
  },
  {
   "cell_type": "code",
   "execution_count": 27,
   "metadata": {},
   "outputs": [],
   "source": [
    "kgi_graph_query_engine = kgi.as_query_engine(include_text=False, response_mode=\"tree_summarize\")\n",
    "graph_resp1 = kgi_graph_query_engine.query(\"Summarize information about Trump\")"
   ]
  },
  {
   "cell_type": "code",
   "execution_count": 28,
   "metadata": {},
   "outputs": [
    {
     "name": "stdout",
     "output_type": "stream",
     "text": [
      "Trump is known for his America First approach, prioritizing the interests of the United States and pulling back from international agreements. He had a tumultuous relationship with world leaders and pursued a conservative agenda. Some of his actions included attempting to repeal the Affordable Care Act, rolling back environmental regulations, cutting taxes for businesses and the wealthy, and implementing hardline immigration policies such as the zero tolerance policy at the border and a travel ban targeting Muslim countries. Trump is also known for his bold and combative approach, using Twitter to attack opponents. He faced accusations of corruption, abuse of power, and underwent an impeachment trial.\n"
     ]
    }
   ],
   "source": [
    "print(graph_resp1)"
   ]
  },
  {
   "cell_type": "markdown",
   "metadata": {},
   "source": [
    "## Getting responses as rich text\n",
    "\n",
    "When we want to have more naturally-structured responses, Lama-index will do the following:\n",
    "\n",
    "1. Insert the query into the prompt\n",
    "2. Find proper Knowledge Graph elements matching the query - adds them to prompt as well.\n",
    "3. Run the LLM to get the response in a nice format."
   ]
  },
  {
   "cell_type": "code",
   "execution_count": 66,
   "metadata": {},
   "outputs": [],
   "source": [
    "kg_query_engine = kgi.as_query_engine()"
   ]
  },
  {
   "cell_type": "code",
   "execution_count": 72,
   "metadata": {},
   "outputs": [
    {
     "name": "stdout",
     "output_type": "stream",
     "text": [
      "Trump pursued a largely conservative agenda, focusing on efforts to repeal the Affordable Care Act, rolling back environmental regulations, cutting taxes for businesses and the wealthy, and implementing hardline immigration policies such as the zero tolerance policy at the border and the travel ban targeting predominantly Muslim countries.\n",
      "\n",
      "Biden, on the other hand, has pursued a more liberal agenda, with a focus on addressing issues such as racial justice, healthcare, and climate change. He has signed executive orders on voting rights, gun control, and climate change issues and proposed legislation on healthcare, infrastructure, and immigration reform.\n"
     ]
    }
   ],
   "source": [
    "kg_resp1 = kg_query_engine.query(\"Compare agendas pursued by both Trump and Biden. Start explanation for each candidate from newline (\\n)\")\n",
    "print(kg_resp1)"
   ]
  },
  {
   "cell_type": "code",
   "execution_count": 73,
   "metadata": {},
   "outputs": [
    {
     "name": "stdout",
     "output_type": "stream",
     "text": [
      "Trump:\n",
      "- \"America First\" approach in foreign policy, prioritizing U.S. interests and pulling back from international agreements\n",
      "- Tumultuous relationships with world leaders\n",
      "- Pursued a conservative domestic agenda, including attempts to repeal the Affordable Care Act, rolling back environmental regulations, and cutting taxes for businesses and the wealthy\n",
      "- Implemented hardline immigration policies, such as the zero tolerance policy and travel ban\n",
      "- Bold and combative leadership style, often using Twitter to attack opponents and make controversial statements\n",
      "\n",
      "Biden:\n",
      "- Emphasizes international cooperation and rebuilding relationships with allies in foreign policy\n",
      "- Rejoined the Paris Climate Agreement and the World Health Organization, and worked to repair relationships with countries like Mexico and Canada\n",
      "- Pursues a liberal domestic agenda, focusing on racial justice, healthcare, and climate change\n",
      "- Signed executive orders on voting rights, gun control, and climate change, and proposed legislation on healthcare, infrastructure, and immigration reform\n",
      "- Conciliatory leadership style, emphasizing bringing people together, finding common ground, and working with Congress to build consensus\n"
     ]
    }
   ],
   "source": [
    "kg_resp2 = kg_query_engine.query(\"Compare general approaches of Trump and Biden to various topics. Briefly summarize each approach. Start explanation for each candidate from newline (\\n)\")\n",
    "print(kg_resp2)"
   ]
  }
 ],
 "metadata": {
  "kernelspec": {
   "display_name": "exp",
   "language": "python",
   "name": "python3"
  },
  "language_info": {
   "codemirror_mode": {
    "name": "ipython",
    "version": 3
   },
   "file_extension": ".py",
   "mimetype": "text/x-python",
   "name": "python",
   "nbconvert_exporter": "python",
   "pygments_lexer": "ipython3",
   "version": "3.10.13"
  }
 },
 "nbformat": 4,
 "nbformat_minor": 2
}
