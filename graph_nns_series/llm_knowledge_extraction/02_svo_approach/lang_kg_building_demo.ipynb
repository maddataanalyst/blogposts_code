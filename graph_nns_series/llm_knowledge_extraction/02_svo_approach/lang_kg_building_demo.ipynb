{
 "cells": [
  {
   "attachments": {},
   "cell_type": "markdown",
   "metadata": {},
   "source": [
    "# Intro\n",
    "\n",
    "This notebook is a playground for building a knowledge graph for language. The idea is to use the Subject-Realtion-Object triplets extracted from natural langue text to build a knowledge graph. The knowledge graph can be used for many purposes, such as question answering, information retrieval, and so on.\n",
    "\n",
    "For trining the triplets model, a special graph-embedding called RotatE will be used."
   ]
  },
  {
   "attachments": {},
   "cell_type": "markdown",
   "metadata": {},
   "source": [
    "# Lib imports"
   ]
  },
  {
   "cell_type": "code",
   "execution_count": 1,
   "metadata": {},
   "outputs": [],
   "source": [
    "import torch as th\n",
    "import matplotlib.pyplot as plt\n",
    "import lang_utils\n",
    "import graph_utils \n",
    "import seaborn as sns\n",
    "import pandas as pd\n",
    "import pyvis as pv\n",
    "import os\n",
    "import networkx as nx\n",
    "import torch_geometric.nn as tgnn\n",
    "import torchviz\n",
    "\n",
    "from pathlib import Path\n",
    "from tqdm.auto import tqdm"
   ]
  },
  {
   "attachments": {},
   "cell_type": "markdown",
   "metadata": {},
   "source": [
    "# Data prep"
   ]
  },
  {
   "attachments": {},
   "cell_type": "markdown",
   "metadata": {},
   "source": [
    "For training the model we will utilize the article [\"Trump vs. Biden: The biggest differences in their presidencies\"](https://edyzoo.medium.com/trump-vs-biden-the-biggest-differences-in-their-presidencies-5f6aa055cf6a) by [Edy Zoo](https://edyzoo.medium.com/).\n",
    "\n",
    "The article content has been extracted to txt file that can be found in a data folder."
   ]
  },
  {
   "cell_type": "code",
   "execution_count": 2,
   "metadata": {},
   "outputs": [],
   "source": [
    "article = open(Path(os.pardir, 'data', 'trump_vs_biden.txt'), \"r\").read()"
   ]
  },
  {
   "attachments": {},
   "cell_type": "markdown",
   "metadata": {},
   "source": [
    "## Entity extraction"
   ]
  },
  {
   "cell_type": "markdown",
   "metadata": {},
   "source": [
    "First we need to extract the entities from the text. For this purpose we will use the SpaCy library.\n",
    "\n",
    "1. Load the NLP model from SpaCy.\n",
    "2. Turn into the SpaCy doc.\n",
    "3. Extract the entities from the doc.\n",
    "4. Post-process entities to extract only those, that are connected to people.\n",
    "\n",
    "Make sure to have `en_core_web_md` dictionary installed for Spacy."
   ]
  },
  {
   "cell_type": "code",
   "execution_count": 3,
   "metadata": {},
   "outputs": [],
   "source": [
    "nlp = lang_utils.get_nlp()\n",
    "doc = nlp(article)\n",
    "entities = lang_utils.extract_person_entities(doc)\n",
    "person_entities = lang_utils.merge_similar_entities(entities)"
   ]
  },
  {
   "cell_type": "code",
   "execution_count": 4,
   "metadata": {},
   "outputs": [
    {
     "data": {
      "text/plain": [
       "['Biden', 'Donald Trump']"
      ]
     },
     "execution_count": 4,
     "metadata": {},
     "output_type": "execute_result"
    }
   ],
   "source": [
    "person_entities[:10]"
   ]
  },
  {
   "attachments": {},
   "cell_type": "markdown",
   "metadata": {},
   "source": [
    "## Triplet extraction"
   ]
  },
  {
   "cell_type": "markdown",
   "metadata": {},
   "source": [
    "Now we will perform some post-processing to clean and extract the triplets from the text."
   ]
  },
  {
   "cell_type": "code",
   "execution_count": 5,
   "metadata": {},
   "outputs": [],
   "source": [
    "person_triplets = lang_utils.extract_triplets_for_entities(doc, person_entities, nlp)"
   ]
  },
  {
   "cell_type": "code",
   "execution_count": 6,
   "metadata": {},
   "outputs": [
    {
     "data": {
      "text/plain": [
       "[('Biden', 'have had', 'very different approaches'),\n",
       " ('Donald Trump', 'taking', 'a more conservative and divisive stance'),\n",
       " ('Biden', 'emphasizing', 'the importance'),\n",
       " ('Biden', 'has been marked', 'a return'),\n",
       " ('Biden', 'have faced', 'challenges'),\n",
       " ('Biden', 'have faced', 'controversies'),\n",
       " ('Biden', 'has emphasized', 'the importance'),\n",
       " ('Donald Trump', 'pursued', 'a largely conservative agenda'),\n",
       " ('Donald Trump', 'roll', 'environmental regulations'),\n",
       " ('Donald Trump', 'cut', 'taxes')]"
      ]
     },
     "execution_count": 6,
     "metadata": {},
     "output_type": "execute_result"
    }
   ],
   "source": [
    "person_triplets[:10]"
   ]
  },
  {
   "attachments": {},
   "cell_type": "markdown",
   "metadata": {},
   "source": [
    "## Graph preparation"
   ]
  },
  {
   "cell_type": "markdown",
   "metadata": {},
   "source": [
    "Person-related triplets can be represented as a graph visualization."
   ]
  },
  {
   "cell_type": "code",
   "execution_count": 7,
   "metadata": {},
   "outputs": [
    {
     "name": "stdout",
     "output_type": "stream",
     "text": [
      "graph.html\n"
     ]
    },
    {
     "data": {
      "text/html": [
       "\n",
       "        <iframe\n",
       "            width=\"1000px\"\n",
       "            height=\"1000px\"\n",
       "            src=\"graph.html\"\n",
       "            frameborder=\"0\"\n",
       "            allowfullscreen\n",
       "            \n",
       "        ></iframe>\n",
       "        "
      ],
      "text/plain": [
       "<IPython.lib.display.IFrame at 0x7f26fd747970>"
      ]
     },
     "execution_count": 7,
     "metadata": {},
     "output_type": "execute_result"
    }
   ],
   "source": [
    "G = nx.DiGraph()\n",
    "\n",
    "edges = {(s, o): r for s,r,o in person_triplets}\n",
    "G.add_edges_from(edges.keys())\n",
    "for (efrom, eto), label in edges.items():\n",
    "    nx.set_edge_attributes(G, {(efrom, eto): label}, \"label\")\n",
    "    \n",
    "nt = pv.network.Network('1000px', '1000px', notebook=True, cdn_resources='in_line')\n",
    "nt.from_nx(G)\n",
    "nt.show('graph.html')"
   ]
  },
  {
   "attachments": {},
   "cell_type": "markdown",
   "metadata": {},
   "source": [
    "# Model"
   ]
  },
  {
   "attachments": {},
   "cell_type": "markdown",
   "metadata": {},
   "source": [
    "# Model trianing prep"
   ]
  },
  {
   "cell_type": "markdown",
   "metadata": {},
   "source": [
    "We need to map subject-rel-objects to numerical ids - they will be used in the model for embedding."
   ]
  },
  {
   "cell_type": "code",
   "execution_count": 8,
   "metadata": {},
   "outputs": [],
   "source": [
    "triplet_mapping = graph_utils.triplets2idx(person_triplets)\n",
    "subject_ids, rel_ids, object_ids = graph_utils.build_triplets_tensors(triplet_mapping)"
   ]
  },
  {
   "cell_type": "markdown",
   "metadata": {},
   "source": [
    "Now it is time to train some embedding models on the triplets. We will utilize RotatE model from PyTorch Geometric library."
   ]
  },
  {
   "cell_type": "code",
   "execution_count": 9,
   "metadata": {},
   "outputs": [],
   "source": [
    "model = tgnn.RotatE(len(triplet_mapping.elem2idx), num_relations=len(triplet_mapping.rel2idx), hidden_channels=8, margin=3)"
   ]
  },
  {
   "cell_type": "markdown",
   "metadata": {},
   "source": [
    "Let's take a look on the model structure."
   ]
  },
  {
   "cell_type": "code",
   "execution_count": 10,
   "metadata": {},
   "outputs": [
    {
     "data": {
      "image/svg+xml": [
       "<?xml version=\"1.0\" encoding=\"UTF-8\" standalone=\"no\"?>\n",
       "<!DOCTYPE svg PUBLIC \"-//W3C//DTD SVG 1.1//EN\"\n",
       " \"http://www.w3.org/Graphics/SVG/1.1/DTD/svg11.dtd\">\n",
       "<!-- Generated by graphviz version 2.43.0 (0)\n",
       " -->\n",
       "<!-- Title: %3 Pages: 1 -->\n",
       "<svg width=\"576pt\" height=\"611pt\"\n",
       " viewBox=\"0.00 0.00 576.00 611.00\" xmlns=\"http://www.w3.org/2000/svg\" xmlns:xlink=\"http://www.w3.org/1999/xlink\">\n",
       "<g id=\"graph0\" class=\"graph\" transform=\"scale(1 1) rotate(0) translate(4 607)\">\n",
       "<title>%3</title>\n",
       "<polygon fill=\"white\" stroke=\"transparent\" points=\"-4,4 -4,-607 572,-607 572,4 -4,4\"/>\n",
       "<!-- 139805437743728 -->\n",
       "<g id=\"node1\" class=\"node\">\n",
       "<title>139805437743728</title>\n",
       "<polygon fill=\"#caff70\" stroke=\"black\" points=\"276.5,-31 222.5,-31 222.5,0 276.5,0 276.5,-31\"/>\n",
       "<text text-anchor=\"middle\" x=\"249.5\" y=\"-7\" font-family=\"monospace\" font-size=\"10.00\"> (18)</text>\n",
       "</g>\n",
       "<!-- 139810587004160 -->\n",
       "<g id=\"node2\" class=\"node\">\n",
       "<title>139810587004160</title>\n",
       "<polygon fill=\"lightgrey\" stroke=\"black\" points=\"297,-86 202,-86 202,-67 297,-67 297,-86\"/>\n",
       "<text text-anchor=\"middle\" x=\"249.5\" y=\"-74\" font-family=\"monospace\" font-size=\"10.00\">RsubBackward1</text>\n",
       "</g>\n",
       "<!-- 139810587004160&#45;&gt;139805437743728 -->\n",
       "<g id=\"edge31\" class=\"edge\">\n",
       "<title>139810587004160&#45;&gt;139805437743728</title>\n",
       "<path fill=\"none\" stroke=\"black\" d=\"M249.5,-66.79C249.5,-60.07 249.5,-50.4 249.5,-41.34\"/>\n",
       "<polygon fill=\"black\" stroke=\"black\" points=\"253,-41.19 249.5,-31.19 246,-41.19 253,-41.19\"/>\n",
       "</g>\n",
       "<!-- 139805437539520 -->\n",
       "<g id=\"node3\" class=\"node\">\n",
       "<title>139805437539520</title>\n",
       "<polygon fill=\"lightgrey\" stroke=\"black\" points=\"333,-141 166,-141 166,-122 333,-122 333,-141\"/>\n",
       "<text text-anchor=\"middle\" x=\"249.5\" y=\"-129\" font-family=\"monospace\" font-size=\"10.00\">LinalgVectorNormBackward0</text>\n",
       "</g>\n",
       "<!-- 139805437539520&#45;&gt;139810587004160 -->\n",
       "<g id=\"edge1\" class=\"edge\">\n",
       "<title>139805437539520&#45;&gt;139810587004160</title>\n",
       "<path fill=\"none\" stroke=\"black\" d=\"M249.5,-121.75C249.5,-114.8 249.5,-104.85 249.5,-96.13\"/>\n",
       "<polygon fill=\"black\" stroke=\"black\" points=\"253,-96.09 249.5,-86.09 246,-96.09 253,-96.09\"/>\n",
       "</g>\n",
       "<!-- 139805437538944 -->\n",
       "<g id=\"node4\" class=\"node\">\n",
       "<title>139805437538944</title>\n",
       "<polygon fill=\"lightgrey\" stroke=\"black\" points=\"300,-196 199,-196 199,-177 300,-177 300,-196\"/>\n",
       "<text text-anchor=\"middle\" x=\"249.5\" y=\"-184\" font-family=\"monospace\" font-size=\"10.00\">StackBackward0</text>\n",
       "</g>\n",
       "<!-- 139805437538944&#45;&gt;139805437539520 -->\n",
       "<g id=\"edge2\" class=\"edge\">\n",
       "<title>139805437538944&#45;&gt;139805437539520</title>\n",
       "<path fill=\"none\" stroke=\"black\" d=\"M249.5,-176.75C249.5,-169.8 249.5,-159.85 249.5,-151.13\"/>\n",
       "<polygon fill=\"black\" stroke=\"black\" points=\"253,-151.09 249.5,-141.09 246,-151.09 253,-151.09\"/>\n",
       "</g>\n",
       "<!-- 139805437539760 -->\n",
       "<g id=\"node5\" class=\"node\">\n",
       "<title>139805437539760</title>\n",
       "<polygon fill=\"lightgrey\" stroke=\"black\" points=\"241,-251 152,-251 152,-232 241,-232 241,-251\"/>\n",
       "<text text-anchor=\"middle\" x=\"196.5\" y=\"-239\" font-family=\"monospace\" font-size=\"10.00\">SubBackward0</text>\n",
       "</g>\n",
       "<!-- 139805437539760&#45;&gt;139805437538944 -->\n",
       "<g id=\"edge3\" class=\"edge\">\n",
       "<title>139805437539760&#45;&gt;139805437538944</title>\n",
       "<path fill=\"none\" stroke=\"black\" d=\"M205.25,-231.75C212.97,-224.03 224.4,-212.6 233.72,-203.28\"/>\n",
       "<polygon fill=\"black\" stroke=\"black\" points=\"236.31,-205.64 240.91,-196.09 231.36,-200.69 236.31,-205.64\"/>\n",
       "</g>\n",
       "<!-- 139805437538752 -->\n",
       "<g id=\"node6\" class=\"node\">\n",
       "<title>139805437538752</title>\n",
       "<polygon fill=\"lightgrey\" stroke=\"black\" points=\"241,-306 152,-306 152,-287 241,-287 241,-306\"/>\n",
       "<text text-anchor=\"middle\" x=\"196.5\" y=\"-294\" font-family=\"monospace\" font-size=\"10.00\">SubBackward0</text>\n",
       "</g>\n",
       "<!-- 139805437538752&#45;&gt;139805437539760 -->\n",
       "<g id=\"edge4\" class=\"edge\">\n",
       "<title>139805437538752&#45;&gt;139805437539760</title>\n",
       "<path fill=\"none\" stroke=\"black\" d=\"M196.5,-286.75C196.5,-279.8 196.5,-269.85 196.5,-261.13\"/>\n",
       "<polygon fill=\"black\" stroke=\"black\" points=\"200,-261.09 196.5,-251.09 193,-261.09 200,-261.09\"/>\n",
       "</g>\n",
       "<!-- 139805437538656 -->\n",
       "<g id=\"node7\" class=\"node\">\n",
       "<title>139805437538656</title>\n",
       "<polygon fill=\"lightgrey\" stroke=\"black\" points=\"180,-361 91,-361 91,-342 180,-342 180,-361\"/>\n",
       "<text text-anchor=\"middle\" x=\"135.5\" y=\"-349\" font-family=\"monospace\" font-size=\"10.00\">MulBackward0</text>\n",
       "</g>\n",
       "<!-- 139805437538656&#45;&gt;139805437538752 -->\n",
       "<g id=\"edge5\" class=\"edge\">\n",
       "<title>139805437538656&#45;&gt;139805437538752</title>\n",
       "<path fill=\"none\" stroke=\"black\" d=\"M145.3,-341.98C154.32,-334.15 167.91,-322.34 178.82,-312.86\"/>\n",
       "<polygon fill=\"black\" stroke=\"black\" points=\"181.27,-315.37 186.52,-306.17 176.68,-310.09 181.27,-315.37\"/>\n",
       "</g>\n",
       "<!-- 139805437539952 -->\n",
       "<g id=\"node8\" class=\"node\">\n",
       "<title>139805437539952</title>\n",
       "<polygon fill=\"lightgrey\" stroke=\"black\" points=\"287,-416 198,-416 198,-397 287,-397 287,-416\"/>\n",
       "<text text-anchor=\"middle\" x=\"242.5\" y=\"-404\" font-family=\"monospace\" font-size=\"10.00\">CosBackward0</text>\n",
       "</g>\n",
       "<!-- 139805437539952&#45;&gt;139805437538656 -->\n",
       "<g id=\"edge6\" class=\"edge\">\n",
       "<title>139805437539952&#45;&gt;139805437538656</title>\n",
       "<path fill=\"none\" stroke=\"black\" d=\"M225.31,-396.98C208.25,-388.54 181.87,-375.47 162.1,-365.68\"/>\n",
       "<polygon fill=\"black\" stroke=\"black\" points=\"163.52,-362.47 153,-361.17 160.41,-368.75 163.52,-362.47\"/>\n",
       "</g>\n",
       "<!-- 139805437754720 -->\n",
       "<g id=\"node23\" class=\"node\">\n",
       "<title>139805437754720</title>\n",
       "<polygon fill=\"lightgrey\" stroke=\"black\" points=\"394,-361 305,-361 305,-342 394,-342 394,-361\"/>\n",
       "<text text-anchor=\"middle\" x=\"349.5\" y=\"-349\" font-family=\"monospace\" font-size=\"10.00\">MulBackward0</text>\n",
       "</g>\n",
       "<!-- 139805437539952&#45;&gt;139805437754720 -->\n",
       "<g id=\"edge24\" class=\"edge\">\n",
       "<title>139805437539952&#45;&gt;139805437754720</title>\n",
       "<path fill=\"none\" stroke=\"black\" d=\"M259.69,-396.98C276.75,-388.54 303.13,-375.47 322.9,-365.68\"/>\n",
       "<polygon fill=\"black\" stroke=\"black\" points=\"324.59,-368.75 332,-361.17 321.48,-362.47 324.59,-368.75\"/>\n",
       "</g>\n",
       "<!-- 139805437538992 -->\n",
       "<g id=\"node9\" class=\"node\">\n",
       "<title>139805437538992</title>\n",
       "<polygon fill=\"lightgrey\" stroke=\"black\" points=\"385,-471 260,-471 260,-452 385,-452 385,-471\"/>\n",
       "<text text-anchor=\"middle\" x=\"322.5\" y=\"-459\" font-family=\"monospace\" font-size=\"10.00\">EmbeddingBackward0</text>\n",
       "</g>\n",
       "<!-- 139805437538992&#45;&gt;139805437539952 -->\n",
       "<g id=\"edge7\" class=\"edge\">\n",
       "<title>139805437538992&#45;&gt;139805437539952</title>\n",
       "<path fill=\"none\" stroke=\"black\" d=\"M309.65,-451.98C297.36,-443.84 278.59,-431.41 264.02,-421.76\"/>\n",
       "<polygon fill=\"black\" stroke=\"black\" points=\"265.86,-418.78 255.59,-416.17 261.99,-424.61 265.86,-418.78\"/>\n",
       "</g>\n",
       "<!-- 139805437539040 -->\n",
       "<g id=\"node16\" class=\"node\">\n",
       "<title>139805437539040</title>\n",
       "<polygon fill=\"lightgrey\" stroke=\"black\" points=\"394,-416 305,-416 305,-397 394,-397 394,-416\"/>\n",
       "<text text-anchor=\"middle\" x=\"349.5\" y=\"-404\" font-family=\"monospace\" font-size=\"10.00\">SinBackward0</text>\n",
       "</g>\n",
       "<!-- 139805437538992&#45;&gt;139805437539040 -->\n",
       "<g id=\"edge15\" class=\"edge\">\n",
       "<title>139805437538992&#45;&gt;139805437539040</title>\n",
       "<path fill=\"none\" stroke=\"black\" d=\"M326.96,-451.75C330.62,-444.57 335.91,-434.18 340.45,-425.27\"/>\n",
       "<polygon fill=\"black\" stroke=\"black\" points=\"343.7,-426.59 345.12,-416.09 337.47,-423.41 343.7,-426.59\"/>\n",
       "</g>\n",
       "<!-- 139805437539184 -->\n",
       "<g id=\"node10\" class=\"node\">\n",
       "<title>139805437539184</title>\n",
       "<polygon fill=\"lightgrey\" stroke=\"black\" points=\"373,-531.5 272,-531.5 272,-512.5 373,-512.5 373,-531.5\"/>\n",
       "<text text-anchor=\"middle\" x=\"322.5\" y=\"-519.5\" font-family=\"monospace\" font-size=\"10.00\">AccumulateGrad</text>\n",
       "</g>\n",
       "<!-- 139805437539184&#45;&gt;139805437538992 -->\n",
       "<g id=\"edge8\" class=\"edge\">\n",
       "<title>139805437539184&#45;&gt;139805437538992</title>\n",
       "<path fill=\"none\" stroke=\"black\" d=\"M322.5,-512.37C322.5,-504.25 322.5,-491.81 322.5,-481.39\"/>\n",
       "<polygon fill=\"black\" stroke=\"black\" points=\"326,-481.17 322.5,-471.17 319,-481.17 326,-481.17\"/>\n",
       "</g>\n",
       "<!-- 139805437565024 -->\n",
       "<g id=\"node11\" class=\"node\">\n",
       "<title>139805437565024</title>\n",
       "<polygon fill=\"lightblue\" stroke=\"black\" points=\"373,-603 272,-603 272,-573 373,-573 373,-603\"/>\n",
       "<text text-anchor=\"middle\" x=\"322.5\" y=\"-591\" font-family=\"monospace\" font-size=\"10.00\">rel_emb.weight</text>\n",
       "<text text-anchor=\"middle\" x=\"322.5\" y=\"-580\" font-family=\"monospace\" font-size=\"10.00\"> (14, 8)</text>\n",
       "</g>\n",
       "<!-- 139805437565024&#45;&gt;139805437539184 -->\n",
       "<g id=\"edge9\" class=\"edge\">\n",
       "<title>139805437565024&#45;&gt;139805437539184</title>\n",
       "<path fill=\"none\" stroke=\"black\" d=\"M322.5,-572.8C322.5,-563.7 322.5,-551.79 322.5,-541.9\"/>\n",
       "<polygon fill=\"black\" stroke=\"black\" points=\"326,-541.84 322.5,-531.84 319,-541.84 326,-541.84\"/>\n",
       "</g>\n",
       "<!-- 139805437539568 -->\n",
       "<g id=\"node12\" class=\"node\">\n",
       "<title>139805437539568</title>\n",
       "<polygon fill=\"lightgrey\" stroke=\"black\" points=\"180,-416 55,-416 55,-397 180,-397 180,-416\"/>\n",
       "<text text-anchor=\"middle\" x=\"117.5\" y=\"-404\" font-family=\"monospace\" font-size=\"10.00\">EmbeddingBackward0</text>\n",
       "</g>\n",
       "<!-- 139805437539568&#45;&gt;139805437538656 -->\n",
       "<g id=\"edge10\" class=\"edge\">\n",
       "<title>139805437539568&#45;&gt;139805437538656</title>\n",
       "<path fill=\"none\" stroke=\"black\" d=\"M120.47,-396.75C122.86,-389.72 126.29,-379.62 129.27,-370.84\"/>\n",
       "<polygon fill=\"black\" stroke=\"black\" points=\"132.68,-371.68 132.58,-361.09 126.05,-369.43 132.68,-371.68\"/>\n",
       "</g>\n",
       "<!-- 139805437754768 -->\n",
       "<g id=\"node24\" class=\"node\">\n",
       "<title>139805437754768</title>\n",
       "<polygon fill=\"lightgrey\" stroke=\"black\" points=\"287,-361 198,-361 198,-342 287,-342 287,-361\"/>\n",
       "<text text-anchor=\"middle\" x=\"242.5\" y=\"-349\" font-family=\"monospace\" font-size=\"10.00\">MulBackward0</text>\n",
       "</g>\n",
       "<!-- 139805437539568&#45;&gt;139805437754768 -->\n",
       "<g id=\"edge28\" class=\"edge\">\n",
       "<title>139805437539568&#45;&gt;139805437754768</title>\n",
       "<path fill=\"none\" stroke=\"black\" d=\"M137.58,-396.98C157.87,-388.38 189.46,-374.99 212.67,-365.15\"/>\n",
       "<polygon fill=\"black\" stroke=\"black\" points=\"214.21,-368.3 222.05,-361.17 211.48,-361.85 214.21,-368.3\"/>\n",
       "</g>\n",
       "<!-- 139805437539664 -->\n",
       "<g id=\"node13\" class=\"node\">\n",
       "<title>139805437539664</title>\n",
       "<polygon fill=\"lightgrey\" stroke=\"black\" points=\"123,-471 22,-471 22,-452 123,-452 123,-471\"/>\n",
       "<text text-anchor=\"middle\" x=\"72.5\" y=\"-459\" font-family=\"monospace\" font-size=\"10.00\">AccumulateGrad</text>\n",
       "</g>\n",
       "<!-- 139805437539664&#45;&gt;139805437539568 -->\n",
       "<g id=\"edge11\" class=\"edge\">\n",
       "<title>139805437539664&#45;&gt;139805437539568</title>\n",
       "<path fill=\"none\" stroke=\"black\" d=\"M79.93,-451.75C86.35,-444.18 95.81,-433.05 103.62,-423.84\"/>\n",
       "<polygon fill=\"black\" stroke=\"black\" points=\"106.4,-425.98 110.21,-416.09 101.07,-421.45 106.4,-425.98\"/>\n",
       "</g>\n",
       "<!-- 139805437539424 -->\n",
       "<g id=\"node20\" class=\"node\">\n",
       "<title>139805437539424</title>\n",
       "<polygon fill=\"lightgrey\" stroke=\"black\" points=\"125,-306 0,-306 0,-287 125,-287 125,-306\"/>\n",
       "<text text-anchor=\"middle\" x=\"62.5\" y=\"-294\" font-family=\"monospace\" font-size=\"10.00\">EmbeddingBackward0</text>\n",
       "</g>\n",
       "<!-- 139805437539664&#45;&gt;139805437539424 -->\n",
       "<g id=\"edge20\" class=\"edge\">\n",
       "<title>139805437539664&#45;&gt;139805437539424</title>\n",
       "<path fill=\"none\" stroke=\"black\" d=\"M65.35,-451.97C58.73,-443.48 49.35,-429.75 45.5,-416 35.79,-381.29 47.04,-339.22 55.31,-315.69\"/>\n",
       "<polygon fill=\"black\" stroke=\"black\" points=\"58.6,-316.88 58.81,-306.28 52.04,-314.44 58.6,-316.88\"/>\n",
       "</g>\n",
       "<!-- 139805437744368 -->\n",
       "<g id=\"node14\" class=\"node\">\n",
       "<title>139805437744368</title>\n",
       "<polygon fill=\"lightblue\" stroke=\"black\" points=\"126,-537 19,-537 19,-507 126,-507 126,-537\"/>\n",
       "<text text-anchor=\"middle\" x=\"72.5\" y=\"-525\" font-family=\"monospace\" font-size=\"10.00\">node_emb.weight</text>\n",
       "<text text-anchor=\"middle\" x=\"72.5\" y=\"-514\" font-family=\"monospace\" font-size=\"10.00\"> (17, 8)</text>\n",
       "</g>\n",
       "<!-- 139805437744368&#45;&gt;139805437539664 -->\n",
       "<g id=\"edge12\" class=\"edge\">\n",
       "<title>139805437744368&#45;&gt;139805437539664</title>\n",
       "<path fill=\"none\" stroke=\"black\" d=\"M72.5,-506.84C72.5,-499.21 72.5,-489.7 72.5,-481.45\"/>\n",
       "<polygon fill=\"black\" stroke=\"black\" points=\"76,-481.27 72.5,-471.27 69,-481.27 76,-481.27\"/>\n",
       "</g>\n",
       "<!-- 139805437538704 -->\n",
       "<g id=\"node15\" class=\"node\">\n",
       "<title>139805437538704</title>\n",
       "<polygon fill=\"lightgrey\" stroke=\"black\" points=\"501,-361 412,-361 412,-342 501,-342 501,-361\"/>\n",
       "<text text-anchor=\"middle\" x=\"456.5\" y=\"-349\" font-family=\"monospace\" font-size=\"10.00\">MulBackward0</text>\n",
       "</g>\n",
       "<!-- 139805437538704&#45;&gt;139805437538752 -->\n",
       "<g id=\"edge13\" class=\"edge\">\n",
       "<title>139805437538704&#45;&gt;139805437538752</title>\n",
       "<path fill=\"none\" stroke=\"black\" d=\"M414.73,-341.98C369.56,-332.78 297.5,-318.09 248.65,-308.13\"/>\n",
       "<polygon fill=\"black\" stroke=\"black\" points=\"249.1,-304.65 238.6,-306.08 247.7,-311.51 249.1,-304.65\"/>\n",
       "</g>\n",
       "<!-- 139805437539040&#45;&gt;139805437538704 -->\n",
       "<g id=\"edge14\" class=\"edge\">\n",
       "<title>139805437539040&#45;&gt;139805437538704</title>\n",
       "<path fill=\"none\" stroke=\"black\" d=\"M366.69,-396.98C383.75,-388.54 410.13,-375.47 429.9,-365.68\"/>\n",
       "<polygon fill=\"black\" stroke=\"black\" points=\"431.59,-368.75 439,-361.17 428.48,-362.47 431.59,-368.75\"/>\n",
       "</g>\n",
       "<!-- 139805437539040&#45;&gt;139805437754768 -->\n",
       "<g id=\"edge27\" class=\"edge\">\n",
       "<title>139805437539040&#45;&gt;139805437754768</title>\n",
       "<path fill=\"none\" stroke=\"black\" d=\"M332.31,-396.98C315.25,-388.54 288.87,-375.47 269.1,-365.68\"/>\n",
       "<polygon fill=\"black\" stroke=\"black\" points=\"270.52,-362.47 260,-361.17 267.41,-368.75 270.52,-362.47\"/>\n",
       "</g>\n",
       "<!-- 139805437540000 -->\n",
       "<g id=\"node17\" class=\"node\">\n",
       "<title>139805437540000</title>\n",
       "<polygon fill=\"lightgrey\" stroke=\"black\" points=\"537,-416 412,-416 412,-397 537,-397 537,-416\"/>\n",
       "<text text-anchor=\"middle\" x=\"474.5\" y=\"-404\" font-family=\"monospace\" font-size=\"10.00\">EmbeddingBackward0</text>\n",
       "</g>\n",
       "<!-- 139805437540000&#45;&gt;139805437538704 -->\n",
       "<g id=\"edge16\" class=\"edge\">\n",
       "<title>139805437540000&#45;&gt;139805437538704</title>\n",
       "<path fill=\"none\" stroke=\"black\" d=\"M471.53,-396.75C469.14,-389.72 465.71,-379.62 462.73,-370.84\"/>\n",
       "<polygon fill=\"black\" stroke=\"black\" points=\"465.95,-369.43 459.42,-361.09 459.32,-371.68 465.95,-369.43\"/>\n",
       "</g>\n",
       "<!-- 139805437540000&#45;&gt;139805437754720 -->\n",
       "<g id=\"edge25\" class=\"edge\">\n",
       "<title>139805437540000&#45;&gt;139805437754720</title>\n",
       "<path fill=\"none\" stroke=\"black\" d=\"M454.42,-396.98C434.13,-388.38 402.54,-374.99 379.33,-365.15\"/>\n",
       "<polygon fill=\"black\" stroke=\"black\" points=\"380.52,-361.85 369.95,-361.17 377.79,-368.3 380.52,-361.85\"/>\n",
       "</g>\n",
       "<!-- 139805437538464 -->\n",
       "<g id=\"node18\" class=\"node\">\n",
       "<title>139805437538464</title>\n",
       "<polygon fill=\"lightgrey\" stroke=\"black\" points=\"551,-471 450,-471 450,-452 551,-452 551,-471\"/>\n",
       "<text text-anchor=\"middle\" x=\"500.5\" y=\"-459\" font-family=\"monospace\" font-size=\"10.00\">AccumulateGrad</text>\n",
       "</g>\n",
       "<!-- 139805437538464&#45;&gt;139805437540000 -->\n",
       "<g id=\"edge17\" class=\"edge\">\n",
       "<title>139805437538464&#45;&gt;139805437540000</title>\n",
       "<path fill=\"none\" stroke=\"black\" d=\"M496.21,-451.75C492.69,-444.57 487.59,-434.18 483.22,-425.27\"/>\n",
       "<polygon fill=\"black\" stroke=\"black\" points=\"486.26,-423.53 478.71,-416.09 479.98,-426.61 486.26,-423.53\"/>\n",
       "</g>\n",
       "<!-- 139805437539328 -->\n",
       "<g id=\"node25\" class=\"node\">\n",
       "<title>139805437539328</title>\n",
       "<polygon fill=\"lightgrey\" stroke=\"black\" points=\"568,-306 443,-306 443,-287 568,-287 568,-306\"/>\n",
       "<text text-anchor=\"middle\" x=\"505.5\" y=\"-294\" font-family=\"monospace\" font-size=\"10.00\">EmbeddingBackward0</text>\n",
       "</g>\n",
       "<!-- 139805437538464&#45;&gt;139805437539328 -->\n",
       "<g id=\"edge30\" class=\"edge\">\n",
       "<title>139805437538464&#45;&gt;139805437539328</title>\n",
       "<path fill=\"none\" stroke=\"black\" d=\"M514.28,-451.82C525.32,-443.99 539.99,-431.35 546.5,-416 561.5,-380.61 536.31,-337.67 519.23,-314.43\"/>\n",
       "<polygon fill=\"black\" stroke=\"black\" points=\"521.83,-312.07 512.97,-306.28 516.28,-316.34 521.83,-312.07\"/>\n",
       "</g>\n",
       "<!-- 139805945515920 -->\n",
       "<g id=\"node19\" class=\"node\">\n",
       "<title>139805945515920</title>\n",
       "<polygon fill=\"lightblue\" stroke=\"black\" points=\"563,-537 438,-537 438,-507 563,-507 563,-537\"/>\n",
       "<text text-anchor=\"middle\" x=\"500.5\" y=\"-525\" font-family=\"monospace\" font-size=\"10.00\">node_emb_im.weight</text>\n",
       "<text text-anchor=\"middle\" x=\"500.5\" y=\"-514\" font-family=\"monospace\" font-size=\"10.00\"> (17, 8)</text>\n",
       "</g>\n",
       "<!-- 139805945515920&#45;&gt;139805437538464 -->\n",
       "<g id=\"edge18\" class=\"edge\">\n",
       "<title>139805945515920&#45;&gt;139805437538464</title>\n",
       "<path fill=\"none\" stroke=\"black\" d=\"M500.5,-506.84C500.5,-499.21 500.5,-489.7 500.5,-481.45\"/>\n",
       "<polygon fill=\"black\" stroke=\"black\" points=\"504,-481.27 500.5,-471.27 497,-481.27 504,-481.27\"/>\n",
       "</g>\n",
       "<!-- 139805437539424&#45;&gt;139805437539760 -->\n",
       "<g id=\"edge19\" class=\"edge\">\n",
       "<title>139805437539424&#45;&gt;139805437539760</title>\n",
       "<path fill=\"none\" stroke=\"black\" d=\"M84.03,-286.98C105.97,-278.3 140.24,-264.75 165.19,-254.88\"/>\n",
       "<polygon fill=\"black\" stroke=\"black\" points=\"166.57,-258.1 174.58,-251.17 163.99,-251.59 166.57,-258.1\"/>\n",
       "</g>\n",
       "<!-- 139805437538896 -->\n",
       "<g id=\"node21\" class=\"node\">\n",
       "<title>139805437538896</title>\n",
       "<polygon fill=\"lightgrey\" stroke=\"black\" points=\"366,-251 277,-251 277,-232 366,-232 366,-251\"/>\n",
       "<text text-anchor=\"middle\" x=\"321.5\" y=\"-239\" font-family=\"monospace\" font-size=\"10.00\">SubBackward0</text>\n",
       "</g>\n",
       "<!-- 139805437538896&#45;&gt;139805437538944 -->\n",
       "<g id=\"edge21\" class=\"edge\">\n",
       "<title>139805437538896&#45;&gt;139805437538944</title>\n",
       "<path fill=\"none\" stroke=\"black\" d=\"M309.93,-231.98C299.08,-224 282.62,-211.88 269.62,-202.31\"/>\n",
       "<polygon fill=\"black\" stroke=\"black\" points=\"271.41,-199.28 261.28,-196.17 267.26,-204.92 271.41,-199.28\"/>\n",
       "</g>\n",
       "<!-- 139805437539712 -->\n",
       "<g id=\"node22\" class=\"node\">\n",
       "<title>139805437539712</title>\n",
       "<polygon fill=\"lightgrey\" stroke=\"black\" points=\"366,-306 277,-306 277,-287 366,-287 366,-306\"/>\n",
       "<text text-anchor=\"middle\" x=\"321.5\" y=\"-294\" font-family=\"monospace\" font-size=\"10.00\">AddBackward0</text>\n",
       "</g>\n",
       "<!-- 139805437539712&#45;&gt;139805437538896 -->\n",
       "<g id=\"edge22\" class=\"edge\">\n",
       "<title>139805437539712&#45;&gt;139805437538896</title>\n",
       "<path fill=\"none\" stroke=\"black\" d=\"M321.5,-286.75C321.5,-279.8 321.5,-269.85 321.5,-261.13\"/>\n",
       "<polygon fill=\"black\" stroke=\"black\" points=\"325,-261.09 321.5,-251.09 318,-261.09 325,-261.09\"/>\n",
       "</g>\n",
       "<!-- 139805437754720&#45;&gt;139805437539712 -->\n",
       "<g id=\"edge23\" class=\"edge\">\n",
       "<title>139805437754720&#45;&gt;139805437539712</title>\n",
       "<path fill=\"none\" stroke=\"black\" d=\"M344.88,-341.75C341.04,-334.49 335.48,-323.95 330.74,-314.98\"/>\n",
       "<polygon fill=\"black\" stroke=\"black\" points=\"333.8,-313.3 326.04,-306.09 327.61,-316.57 333.8,-313.3\"/>\n",
       "</g>\n",
       "<!-- 139805437754768&#45;&gt;139805437539712 -->\n",
       "<g id=\"edge26\" class=\"edge\">\n",
       "<title>139805437754768&#45;&gt;139805437539712</title>\n",
       "<path fill=\"none\" stroke=\"black\" d=\"M255.19,-341.98C267.33,-333.84 285.86,-321.41 300.25,-311.76\"/>\n",
       "<polygon fill=\"black\" stroke=\"black\" points=\"302.22,-314.65 308.58,-306.17 298.32,-308.84 302.22,-314.65\"/>\n",
       "</g>\n",
       "<!-- 139805437539328&#45;&gt;139805437538896 -->\n",
       "<g id=\"edge29\" class=\"edge\">\n",
       "<title>139805437539328&#45;&gt;139805437538896</title>\n",
       "<path fill=\"none\" stroke=\"black\" d=\"M475.94,-286.98C444.78,-278.01 395.53,-263.82 361.04,-253.89\"/>\n",
       "<polygon fill=\"black\" stroke=\"black\" points=\"361.87,-250.49 351.29,-251.08 359.93,-257.21 361.87,-250.49\"/>\n",
       "</g>\n",
       "</g>\n",
       "</svg>\n"
      ],
      "text/plain": [
       "<graphviz.graphs.Digraph at 0x7f271bb884f0>"
      ]
     },
     "execution_count": 10,
     "metadata": {},
     "output_type": "execute_result"
    }
   ],
   "source": [
    "torchviz.make_dot(model(subject_ids, rel_ids, object_ids), params=dict(model.named_parameters()))"
   ]
  },
  {
   "cell_type": "markdown",
   "metadata": {},
   "source": [
    "We will train the model semi-manually on the triplets. For educational clarity, we won't delegate everyting to e.g. PyTorch Lightning."
   ]
  },
  {
   "cell_type": "code",
   "execution_count": 11,
   "metadata": {},
   "outputs": [],
   "source": [
    "optim = th.optim.Adam(model.parameters(), 0.01)\n",
    "loader = model.loader(\n",
    "    head_index=subject_ids,\n",
    "    rel_type=rel_ids,\n",
    "    tail_index=object_ids,\n",
    "    batch_size=8,\n",
    "    shuffle=True\n",
    ")"
   ]
  },
  {
   "cell_type": "code",
   "execution_count": 12,
   "metadata": {},
   "outputs": [
    {
     "data": {
      "application/vnd.jupyter.widget-view+json": {
       "model_id": "8dc322aca0b04c029d136f712570ea88",
       "version_major": 2,
       "version_minor": 0
      },
      "text/plain": [
       "  0%|          | 0/150 [00:00<?, ?it/s]"
      ]
     },
     "metadata": {},
     "output_type": "display_data"
    }
   ],
   "source": [
    "losses = []\n",
    "epochs = 150\n",
    "for ep in tqdm(range(epochs)):\n",
    "    model.train()\n",
    "    total_loss = total_examples = 0\n",
    "    # Iterate in batches over the training dataset: sunbject-rel-object\n",
    "    for head_index, rel_type, tail_index in loader:\n",
    "        optim.zero_grad()\n",
    "        loss = model.loss(head_index, rel_type, tail_index)\n",
    "        loss.backward()\n",
    "        optim.step()\n",
    "        total_loss += float(loss) * head_index.numel()\n",
    "        total_examples += head_index.numel()\n",
    "    avg_loss = total_loss / total_examples\n",
    "    losses.append(avg_loss)"
   ]
  },
  {
   "cell_type": "code",
   "execution_count": 13,
   "metadata": {},
   "outputs": [
    {
     "data": {
      "image/png": "[encoded data removed]",
      "text/plain": [
       "<Figure size 640x480 with 1 Axes>"
      ]
     },
     "metadata": {},
     "output_type": "display_data"
    }
   ],
   "source": [
    "plt.plot(losses);"
   ]
  },
  {
   "attachments": {},
   "cell_type": "markdown",
   "metadata": {},
   "source": [
    "# Triplet embedding"
   ]
  },
  {
   "cell_type": "markdown",
   "metadata": {},
   "source": [
    "Now we can do some predictive modelling. We will ask \"queries\" in a form of triplets with missing elements. Model will\n",
    "find the missing element that best fits the query.\n",
    "\n",
    "E.g.:\n",
    "\n",
    "```[Donald Trump, is, ?] -> [Donald Trump, is, president]```"
   ]
  },
  {
   "cell_type": "code",
   "execution_count": 14,
   "metadata": {},
   "outputs": [
    {
     "data": {
      "image/png": "[encoded data removed]",
      "text/plain": [
       "<Figure size 640x480 with 1 Axes>"
      ]
     },
     "metadata": {},
     "output_type": "display_data"
    }
   ],
   "source": [
    "scores1 = graph_utils.analyze_sentence_soundness(model, triplet_mapping, subj=\"Trump\", rel=\"pursued\").sort_values(by='score', ascending=False)\n",
    "sns.barplot(x=\"score\", y=\"entity\", data=scores1, palette='RdYlGn_r');"
   ]
  },
  {
   "cell_type": "code",
   "execution_count": 28,
   "metadata": {},
   "outputs": [
    {
     "data": {
      "image/png": "[encoded data removed]",
      "text/plain": [
       "<Figure size 640x480 with 1 Axes>"
      ]
     },
     "metadata": {},
     "output_type": "display_data"
    }
   ],
   "source": [
    "scores2 = graph_utils.analyze_sentence_soundness(model, triplet_mapping, subj='Donald Trump', rel='taking').sort_values(by='score', ascending=False)\n",
    "sns.barplot(x=\"score\", y=\"entity\", data=scores2, palette='RdYlGn_r');"
   ]
  }
 ],
 "metadata": {
  "kernelspec": {
   "display_name": "py39",
   "language": "python",
   "name": "python3"
  },
  "language_info": {
   "codemirror_mode": {
    "name": "ipython",
    "version": 3
   },
   "file_extension": ".py",
   "mimetype": "text/x-python",
   "name": "python",
   "nbconvert_exporter": "python",
   "pygments_lexer": "ipython3",
   "version": "3.9.16"
  },
  "orig_nbformat": 4
 },
 "nbformat": 4,
 "nbformat_minor": 2
}
